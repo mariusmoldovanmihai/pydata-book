{
  "nbformat": 4,
  "nbformat_minor": 0,
  "metadata": {
    "colab": {
      "name": "Copy of MIB2021-lab01-02.ipynb",
      "provenance": [],
      "collapsed_sections": []
    },
    "kernelspec": {
      "name": "python3",
      "display_name": "Python 3"
    }
  },
  "cells": [
    {
      "cell_type": "markdown",
      "metadata": {
        "id": "qw8svAr0OpSR"
      },
      "source": [
        "# Tipuri de celule\n",
        "\n",
        "Un document interactiv Colab conține două tipuri de celule: cod și text (**formatat** *dacă* `este` nevoie). Acesta este o celulă de tip text. "
      ]
    },
    {
      "cell_type": "code",
      "metadata": {
        "colab": {
          "base_uri": "https://localhost:8080/"
        },
        "id": "No4DvZHoPekX",
        "outputId": "4c7152e0-71e9-469d-9be2-ca890b3a1bf4"
      },
      "source": [
        "# Pentru rulare apăsați butonul play din stânga sau selectați celula și apăsați Shift+Enter\n",
        "print('Iar acesta este o celulă de tip cod.')"
      ],
      "execution_count": null,
      "outputs": [
        {
          "output_type": "stream",
          "text": [
            "Iar acesta este o celulă de tip cod.\n"
          ],
          "name": "stdout"
        }
      ]
    },
    {
      "cell_type": "markdown",
      "metadata": {
        "id": "DONllmdBQE5f"
      },
      "source": [
        "# Comenzi sistem\n",
        "\n",
        "Notebook-ul Colab rulează într-o mașină virtuală la care avem accesa direct. Pentru a rula comenzi în terminalul VM, acestea trebuie prefixate cu semnul exclamării.  "
      ]
    },
    {
      "cell_type": "code",
      "metadata": {
        "id": "NKHIzuH-QEHJ",
        "colab": {
          "base_uri": "https://localhost:8080/"
        },
        "outputId": "099dbe03-2e4b-4b59-96e4-d5ce77fb2e42"
      },
      "source": [
        "!touch fisiernou1.txt\n",
        "!echo \"Hello, World!\" > fisiernou2.txt\n",
        "print('Listare fisiere\\n')\n",
        "!ls -l\n",
        "print('Calea directorului de lucru actual este:\\n')\n",
        "!pwd\n",
        "print('Listare continut fisiernou2.txt\\n')\n",
        "!cat fisiernou2.txt"
      ],
      "execution_count": null,
      "outputs": [
        {
          "output_type": "stream",
          "text": [
            "Listare fisiere\n",
            "\n",
            "total 8\n",
            "-rw-r--r-- 1 root root    0 Feb 28 09:15 fisiernou1.txt\n",
            "-rw-r--r-- 1 root root   14 Feb 28 09:15 fisiernou2.txt\n",
            "drwxr-xr-x 1 root root 4096 Feb 24 17:49 sample_data\n",
            "Calea directorului de lucru actual este:\n",
            "\n",
            "/content\n",
            "Listare continut fisiernou2.txt\n",
            "\n",
            "Hello, World!\n"
          ],
          "name": "stdout"
        }
      ]
    },
    {
      "cell_type": "code",
      "metadata": {
        "id": "p6a-BBVfTdKW",
        "colab": {
          "base_uri": "https://localhost:8080/"
        },
        "outputId": "90ea82b6-5b3f-4c59-a140-c2046d3701fc"
      },
      "source": [
        "print('Listare versiune Python\\n')\n",
        "!python --version"
      ],
      "execution_count": null,
      "outputs": [
        {
          "output_type": "stream",
          "text": [
            "Listare versiune Python\n",
            "\n",
            "Python 3.7.10\n"
          ],
          "name": "stdout"
        }
      ]
    },
    {
      "cell_type": "code",
      "metadata": {
        "id": "v20votZ-T3im",
        "colab": {
          "base_uri": "https://localhost:8080/"
        },
        "outputId": "1bce2527-02ea-4245-db68-c084db77ef5b"
      },
      "source": [
        "print('Listare informatii VM\\n')\n",
        "!df -h\n",
        "!lscpu\n",
        "!cat /proc/cpuinfo\n",
        "!cat /proc/meminfo | egrep 'MemTotal'\n"
      ],
      "execution_count": null,
      "outputs": [
        {
          "output_type": "stream",
          "text": [
            "Listare informatii VM\n",
            "\n",
            "Filesystem      Size  Used Avail Use% Mounted on\n",
            "overlay         108G   31G   78G  29% /\n",
            "tmpfs            64M     0   64M   0% /dev\n",
            "tmpfs           6.4G     0  6.4G   0% /sys/fs/cgroup\n",
            "shm             5.9G     0  5.9G   0% /dev/shm\n",
            "tmpfs           6.4G   24K  6.4G   1% /var/colab\n",
            "/dev/sda1       114G   32G   83G  28% /etc/hosts\n",
            "tmpfs           6.4G     0  6.4G   0% /proc/acpi\n",
            "tmpfs           6.4G     0  6.4G   0% /proc/scsi\n",
            "tmpfs           6.4G     0  6.4G   0% /sys/firmware\n",
            "Architecture:        x86_64\n",
            "CPU op-mode(s):      32-bit, 64-bit\n",
            "Byte Order:          Little Endian\n",
            "CPU(s):              2\n",
            "On-line CPU(s) list: 0,1\n",
            "Thread(s) per core:  2\n",
            "Core(s) per socket:  1\n",
            "Socket(s):           1\n",
            "NUMA node(s):        1\n",
            "Vendor ID:           GenuineIntel\n",
            "CPU family:          6\n",
            "Model:               79\n",
            "Model name:          Intel(R) Xeon(R) CPU @ 2.20GHz\n",
            "Stepping:            0\n",
            "CPU MHz:             2200.140\n",
            "BogoMIPS:            4400.28\n",
            "Hypervisor vendor:   KVM\n",
            "Virtualization type: full\n",
            "L1d cache:           32K\n",
            "L1i cache:           32K\n",
            "L2 cache:            256K\n",
            "L3 cache:            56320K\n",
            "NUMA node0 CPU(s):   0,1\n",
            "Flags:               fpu vme de pse tsc msr pae mce cx8 apic sep mtrr pge mca cmov pat pse36 clflush mmx fxsr sse sse2 ss ht syscall nx pdpe1gb rdtscp lm constant_tsc rep_good nopl xtopology nonstop_tsc cpuid tsc_known_freq pni pclmulqdq ssse3 fma cx16 pcid sse4_1 sse4_2 x2apic movbe popcnt aes xsave avx f16c rdrand hypervisor lahf_lm abm 3dnowprefetch invpcid_single ssbd ibrs ibpb stibp fsgsbase tsc_adjust bmi1 hle avx2 smep bmi2 erms invpcid rtm rdseed adx smap xsaveopt arat md_clear arch_capabilities\n",
            "processor\t: 0\n",
            "vendor_id\t: GenuineIntel\n",
            "cpu family\t: 6\n",
            "model\t\t: 79\n",
            "model name\t: Intel(R) Xeon(R) CPU @ 2.20GHz\n",
            "stepping\t: 0\n",
            "microcode\t: 0x1\n",
            "cpu MHz\t\t: 2200.140\n",
            "cache size\t: 56320 KB\n",
            "physical id\t: 0\n",
            "siblings\t: 2\n",
            "core id\t\t: 0\n",
            "cpu cores\t: 1\n",
            "apicid\t\t: 0\n",
            "initial apicid\t: 0\n",
            "fpu\t\t: yes\n",
            "fpu_exception\t: yes\n",
            "cpuid level\t: 13\n",
            "wp\t\t: yes\n",
            "flags\t\t: fpu vme de pse tsc msr pae mce cx8 apic sep mtrr pge mca cmov pat pse36 clflush mmx fxsr sse sse2 ss ht syscall nx pdpe1gb rdtscp lm constant_tsc rep_good nopl xtopology nonstop_tsc cpuid tsc_known_freq pni pclmulqdq ssse3 fma cx16 pcid sse4_1 sse4_2 x2apic movbe popcnt aes xsave avx f16c rdrand hypervisor lahf_lm abm 3dnowprefetch invpcid_single ssbd ibrs ibpb stibp fsgsbase tsc_adjust bmi1 hle avx2 smep bmi2 erms invpcid rtm rdseed adx smap xsaveopt arat md_clear arch_capabilities\n",
            "bugs\t\t: cpu_meltdown spectre_v1 spectre_v2 spec_store_bypass l1tf mds swapgs taa\n",
            "bogomips\t: 4400.28\n",
            "clflush size\t: 64\n",
            "cache_alignment\t: 64\n",
            "address sizes\t: 46 bits physical, 48 bits virtual\n",
            "power management:\n",
            "\n",
            "processor\t: 1\n",
            "vendor_id\t: GenuineIntel\n",
            "cpu family\t: 6\n",
            "model\t\t: 79\n",
            "model name\t: Intel(R) Xeon(R) CPU @ 2.20GHz\n",
            "stepping\t: 0\n",
            "microcode\t: 0x1\n",
            "cpu MHz\t\t: 2200.140\n",
            "cache size\t: 56320 KB\n",
            "physical id\t: 0\n",
            "siblings\t: 2\n",
            "core id\t\t: 0\n",
            "cpu cores\t: 1\n",
            "apicid\t\t: 1\n",
            "initial apicid\t: 1\n",
            "fpu\t\t: yes\n",
            "fpu_exception\t: yes\n",
            "cpuid level\t: 13\n",
            "wp\t\t: yes\n",
            "flags\t\t: fpu vme de pse tsc msr pae mce cx8 apic sep mtrr pge mca cmov pat pse36 clflush mmx fxsr sse sse2 ss ht syscall nx pdpe1gb rdtscp lm constant_tsc rep_good nopl xtopology nonstop_tsc cpuid tsc_known_freq pni pclmulqdq ssse3 fma cx16 pcid sse4_1 sse4_2 x2apic movbe popcnt aes xsave avx f16c rdrand hypervisor lahf_lm abm 3dnowprefetch invpcid_single ssbd ibrs ibpb stibp fsgsbase tsc_adjust bmi1 hle avx2 smep bmi2 erms invpcid rtm rdseed adx smap xsaveopt arat md_clear arch_capabilities\n",
            "bugs\t\t: cpu_meltdown spectre_v1 spectre_v2 spec_store_bypass l1tf mds swapgs taa\n",
            "bogomips\t: 4400.28\n",
            "clflush size\t: 64\n",
            "cache_alignment\t: 64\n",
            "address sizes\t: 46 bits physical, 48 bits virtual\n",
            "power management:\n",
            "\n",
            "MemTotal:       13333596 kB\n"
          ],
          "name": "stdout"
        }
      ]
    },
    {
      "cell_type": "code",
      "metadata": {
        "colab": {
          "base_uri": "https://localhost:8080/"
        },
        "id": "POhxnkYdSlr3",
        "outputId": "a0bde44c-cb5e-488a-9208-1852ba2e55cb"
      },
      "source": [
        "print('Stergerea fisierelor txt create\\n')\n",
        "!rm *.txt\n",
        "!ls"
      ],
      "execution_count": null,
      "outputs": [
        {
          "output_type": "stream",
          "text": [
            "Stergerea fisierelor txt create\n",
            "\n",
            "sample_data\n"
          ],
          "name": "stdout"
        }
      ]
    },
    {
      "cell_type": "code",
      "metadata": {
        "id": "kY9Tpq4rVkUE",
        "colab": {
          "base_uri": "https://localhost:8080/"
        },
        "outputId": "b262ca67-5ccb-4371-a46a-c836beae4449"
      },
      "source": [
        "print('Instalarea unor librarii Python cu pip\\n')\n",
        "!pip install deap"
      ],
      "execution_count": null,
      "outputs": [
        {
          "output_type": "stream",
          "text": [
            "Instalarea unor librarii Python cu pip\n",
            "\n",
            "Collecting deap\n",
            "\u001b[?25l  Downloading https://files.pythonhosted.org/packages/99/d1/803c7a387d8a7e6866160b1541307f88d534da4291572fb32f69d2548afb/deap-1.3.1-cp37-cp37m-manylinux2010_x86_64.whl (157kB)\n",
            "\u001b[K     |████████████████████████████████| 163kB 7.5MB/s \n",
            "\u001b[?25hRequirement already satisfied: numpy in /usr/local/lib/python3.7/dist-packages (from deap) (1.19.5)\n",
            "Installing collected packages: deap\n",
            "Successfully installed deap-1.3.1\n"
          ],
          "name": "stdout"
        }
      ]
    },
    {
      "cell_type": "markdown",
      "metadata": {
        "id": "V1_cqTD3piOt"
      },
      "source": [
        "# Încărcare și descărcare de date\n",
        "\n",
        "Datele necesare procesării în Google Colab pot fi încărcate interactiv, montate în Google Drive sau importate din orice sursă de pe internet. La fel, salvarea se poate face în Google Drive sau fișierele pot fi descărcate."
      ]
    },
    {
      "cell_type": "markdown",
      "metadata": {
        "id": "1yxf2fvkWsdo"
      },
      "source": [
        "## Încărcarea fișierelor din sistemul de fișiere local \n",
        "\n",
        "`files.upload` returnează un dicționar al fișierelor încărcate. \n"
      ]
    },
    {
      "cell_type": "code",
      "metadata": {
        "id": "ebiYVKFQLUPK",
        "colab": {
          "base_uri": "https://localhost:8080/",
          "height": 346
        },
        "outputId": "cb5c6fcb-2047-43ea-a4dc-a2d6b4239137"
      },
      "source": [
        "from google.colab import files\n",
        "\n",
        "uploaded = files.upload()\n",
        "\n",
        "for fn in uploaded.keys():\n",
        "  print('A fost incarcat fisierul \"{name}\" de marimea {length} bytes'.format(\n",
        "      name=fn, length=len(uploaded[fn])))"
      ],
      "execution_count": null,
      "outputs": [
        {
          "output_type": "error",
          "ename": "TypeError",
          "evalue": "ignored",
          "traceback": [
            "\u001b[0;31m---------------------------------------------------------------------------\u001b[0m",
            "\u001b[0;31mTypeError\u001b[0m                                 Traceback (most recent call last)",
            "\u001b[0;32m<ipython-input-8-0ae2b8ef4416>\u001b[0m in \u001b[0;36m<module>\u001b[0;34m()\u001b[0m\n\u001b[1;32m      1\u001b[0m \u001b[0;32mfrom\u001b[0m \u001b[0mgoogle\u001b[0m\u001b[0;34m.\u001b[0m\u001b[0mcolab\u001b[0m \u001b[0;32mimport\u001b[0m \u001b[0mfiles\u001b[0m\u001b[0;34m\u001b[0m\u001b[0;34m\u001b[0m\u001b[0m\n\u001b[1;32m      2\u001b[0m \u001b[0;34m\u001b[0m\u001b[0m\n\u001b[0;32m----> 3\u001b[0;31m \u001b[0muploaded\u001b[0m \u001b[0;34m=\u001b[0m \u001b[0mfiles\u001b[0m\u001b[0;34m.\u001b[0m\u001b[0mupload\u001b[0m\u001b[0;34m(\u001b[0m\u001b[0;34m)\u001b[0m\u001b[0;34m\u001b[0m\u001b[0;34m\u001b[0m\u001b[0m\n\u001b[0m\u001b[1;32m      4\u001b[0m \u001b[0;34m\u001b[0m\u001b[0m\n\u001b[1;32m      5\u001b[0m \u001b[0;32mfor\u001b[0m \u001b[0mfn\u001b[0m \u001b[0;32min\u001b[0m \u001b[0muploaded\u001b[0m\u001b[0;34m.\u001b[0m\u001b[0mkeys\u001b[0m\u001b[0;34m(\u001b[0m\u001b[0;34m)\u001b[0m\u001b[0;34m:\u001b[0m\u001b[0;34m\u001b[0m\u001b[0;34m\u001b[0m\u001b[0m\n",
            "\u001b[0;32m/usr/local/lib/python3.7/dist-packages/google/colab/files.py\u001b[0m in \u001b[0;36mupload\u001b[0;34m()\u001b[0m\n\u001b[1;32m     67\u001b[0m   \u001b[0mlocal_filenames\u001b[0m \u001b[0;34m=\u001b[0m \u001b[0mdict\u001b[0m\u001b[0;34m(\u001b[0m\u001b[0;34m)\u001b[0m\u001b[0;34m\u001b[0m\u001b[0;34m\u001b[0m\u001b[0m\n\u001b[1;32m     68\u001b[0m \u001b[0;34m\u001b[0m\u001b[0m\n\u001b[0;32m---> 69\u001b[0;31m   \u001b[0;32mwhile\u001b[0m \u001b[0mresult\u001b[0m\u001b[0;34m[\u001b[0m\u001b[0;34m'action'\u001b[0m\u001b[0;34m]\u001b[0m \u001b[0;34m!=\u001b[0m \u001b[0;34m'complete'\u001b[0m\u001b[0;34m:\u001b[0m\u001b[0;34m\u001b[0m\u001b[0;34m\u001b[0m\u001b[0m\n\u001b[0m\u001b[1;32m     70\u001b[0m     result = _output.eval_js(\n\u001b[1;32m     71\u001b[0m         'google.colab._files._uploadFilesContinue(\"{output_id}\")'.format(\n",
            "\u001b[0;31mTypeError\u001b[0m: 'NoneType' object is not subscriptable"
          ]
        }
      ]
    },
    {
      "cell_type": "markdown",
      "metadata": {
        "id": "mGehZxupctea"
      },
      "source": [
        "## Descărcarea fișierelor\n",
        "\n",
        "`files.download` va invoca o descărcare prin browser a fișierlor. "
      ]
    },
    {
      "cell_type": "code",
      "metadata": {
        "id": "ZvW3s1NPXHE2",
        "colab": {
          "base_uri": "https://localhost:8080/",
          "height": 50
        },
        "outputId": "c229d361-6330-4045-c00b-36fb99e626c1"
      },
      "source": [
        "from google.colab import files\n",
        "import random\n",
        "\n",
        "x = random.choices(range(0, 9), k=20)\n",
        "print(x)\n",
        "\n",
        "with open('numere.txt', 'w') as f:\n",
        "  f.write(str(x))\n",
        "\n",
        "!cat numere.txt\n",
        "\n",
        "files.download('numere.txt')"
      ],
      "execution_count": null,
      "outputs": [
        {
          "output_type": "stream",
          "text": [
            "[3, 5, 4, 1, 1, 8, 4, 1, 7, 1, 2, 3, 2, 6, 3, 5, 7, 0, 3, 5]\n",
            "[3, 5, 4, 1, 1, 8, 4, 1, 7, 1, 2, 3, 2, 6, 3, 5, 7, 0, 3, 5]"
          ],
          "name": "stdout"
        },
        {
          "output_type": "display_data",
          "data": {
            "application/javascript": [
              "\n",
              "    async function download(id, filename, size) {\n",
              "      if (!google.colab.kernel.accessAllowed) {\n",
              "        return;\n",
              "      }\n",
              "      const div = document.createElement('div');\n",
              "      const label = document.createElement('label');\n",
              "      label.textContent = `Downloading \"${filename}\": `;\n",
              "      div.appendChild(label);\n",
              "      const progress = document.createElement('progress');\n",
              "      progress.max = size;\n",
              "      div.appendChild(progress);\n",
              "      document.body.appendChild(div);\n",
              "\n",
              "      const buffers = [];\n",
              "      let downloaded = 0;\n",
              "\n",
              "      const channel = await google.colab.kernel.comms.open(id);\n",
              "      // Send a message to notify the kernel that we're ready.\n",
              "      channel.send({})\n",
              "\n",
              "      for await (const message of channel.messages) {\n",
              "        // Send a message to notify the kernel that we're ready.\n",
              "        channel.send({})\n",
              "        if (message.buffers) {\n",
              "          for (const buffer of message.buffers) {\n",
              "            buffers.push(buffer);\n",
              "            downloaded += buffer.byteLength;\n",
              "            progress.value = downloaded;\n",
              "          }\n",
              "        }\n",
              "      }\n",
              "      const blob = new Blob(buffers, {type: 'application/binary'});\n",
              "      const a = document.createElement('a');\n",
              "      a.href = window.URL.createObjectURL(blob);\n",
              "      a.download = filename;\n",
              "      div.appendChild(a);\n",
              "      a.click();\n",
              "      div.remove();\n",
              "    }\n",
              "  "
            ],
            "text/plain": [
              "<IPython.core.display.Javascript object>"
            ]
          },
          "metadata": {
            "tags": []
          }
        },
        {
          "output_type": "display_data",
          "data": {
            "application/javascript": [
              "download(\"download_7158378d-72dd-4a40-8f6c-2787445ffd57\", \"numere.txt\", 60)"
            ],
            "text/plain": [
              "<IPython.core.display.Javascript object>"
            ]
          },
          "metadata": {
            "tags": []
          }
        }
      ]
    },
    {
      "cell_type": "markdown",
      "metadata": {
        "id": "ApRO4XZIdLu7"
      },
      "source": [
        "## Montarea Google Drive\n",
        "\n",
        "Google Drive se poate monta pe runtime folosind un cod de autorizare obținut după un pas de logare-autorizare cu contul Google asociat. După montare, fișierele din Drive sunt accesibile pentru citire și scriere. "
      ]
    },
    {
      "cell_type": "code",
      "metadata": {
        "colab": {
          "base_uri": "https://localhost:8080/"
        },
        "id": "5ONMDxXWa21i",
        "outputId": "b07d1106-9b35-4f3b-cae5-c9fe34a583a1"
      },
      "source": [
        "from google.colab import drive\n",
        "drive.mount('/content/drive')"
      ],
      "execution_count": null,
      "outputs": [
        {
          "output_type": "stream",
          "text": [
            "Mounted at /content/drive\n"
          ],
          "name": "stdout"
        }
      ]
    },
    {
      "cell_type": "code",
      "metadata": {
        "id": "O9d1bzLarEve",
        "colab": {
          "base_uri": "https://localhost:8080/"
        },
        "outputId": "50d71aa8-5511-4dc6-a4de-7d4ed3551634"
      },
      "source": [
        "!ls '/content/drive/MyDrive'"
      ],
      "execution_count": null,
      "outputs": [
        {
          "output_type": "stream",
          "text": [
            "'2016 - 2017 - 2 SUBIECT REZERVĂ Evaluare Națională Matematică .pdf'\n",
            "'Colab Notebooks'\n",
            "'Document from marius moldovan36'\n",
            "'Document from marius moldovan36 (1).pdf'\n",
            "'Document from marius moldovan36 (2).pdf'\n",
            "'Document from marius moldovan36.pdf'\n",
            "'en_matematica_2017_var_04_lro_95656700 (1).pdf'\n",
            "'Garantie (1) (1).pdf'\n",
            "'Garantie (1) (2).pdf'\n",
            "'Garantie (1) (3).pdf'\n",
            "'Garantie (1) (4).pdf'\n",
            "'Garantie (1) (5).pdf'\n",
            "'Garantie (1).pdf'\n",
            " Garantie.pdf\n",
            "'Getting started.pdf'\n",
            " hello.txt\n",
            "'hw_200 (2).csv'\n",
            "'Listă_documente_elaborate--- (1).pdf'\n",
            "'Listă_documente_elaborate--- (2).pdf'\n",
            " Listă_documente_elaborate---.pdf\n",
            "'New folder.rar'\n"
          ],
          "name": "stdout"
        }
      ]
    },
    {
      "cell_type": "code",
      "metadata": {
        "id": "0Nr-pcMArNHu",
        "colab": {
          "base_uri": "https://localhost:8080/"
        },
        "outputId": "8a444214-aaac-4b08-9d8a-3d6d66a6b1ff"
      },
      "source": [
        "with open('/content/drive/MyDrive/hello.txt', 'w') as f:\n",
        "  f.write('Hello, Google Drive!')\n",
        "!cat '/content/drive/MyDrive/hello.txt'"
      ],
      "execution_count": null,
      "outputs": [
        {
          "output_type": "stream",
          "text": [
            "Hello, Google Drive!"
          ],
          "name": "stdout"
        }
      ]
    },
    {
      "cell_type": "code",
      "metadata": {
        "id": "dqpDtki8rly5",
        "colab": {
          "base_uri": "https://localhost:8080/"
        },
        "outputId": "655a764c-77d9-4da1-fbf7-c7aeaf01e5e2"
      },
      "source": [
        "drive.flush_and_unmount()\n",
        "print('Toate modificarile efectuate in aceasta sesiune colab sunt acum vizibile în Drive. Verificati accesand drive.google.com')"
      ],
      "execution_count": null,
      "outputs": [
        {
          "output_type": "stream",
          "text": [
            "Toate modificarile efectuate in aceasta sesiune colab sunt acum vizibile în Drive. Verificati accesand drive.google.com\n"
          ],
          "name": "stdout"
        }
      ]
    },
    {
      "cell_type": "markdown",
      "metadata": {
        "id": "9ehupmW71MvZ"
      },
      "source": [
        "\n",
        "\n",
        "---\n",
        "\n",
        "\n"
      ]
    },
    {
      "cell_type": "markdown",
      "metadata": {
        "id": "gaQsvLaHsFPW"
      },
      "source": [
        "# Exerciții\n",
        "\n",
        "\n",
        "1.   Pentru reîmprospătarea și aprofundarea cunoștințelor Python, rulați selectiv exemplele din tutorialul [A Crash Course in Python for Scientists](https://nbviewer.jupyter.org/gist/rpmuller/5920182) în acest notebook, prin inserarea de noi celule cod. Unele exemple trebuie adaptate pentru Python 3 (ex. `print x` devine `print(x)`, `7/3` nu este trunchiat, rezultatul va fi deja tip `float` etc.).\n",
        "2.   Încărcați acest [fișier csv](https://people.sc.fsu.edu/~jburkardt/data/csv/hw_200.csv) în Google Drive-ul personal. Apoi,\n",
        "    * citiți fișierul din Drive și transformați datele în sistemul metric (cm și kg);\n",
        "    * vizualizați datele cu ajutorul unui [scatterplot](https://pythonspot.com/matplotlib-scatterplot/);\n",
        "    * [salvați](https://matplotlib.org/3.1.1/api/_as_gen/matplotlib.pyplot.savefig.html) și descărcați imaginea obținută pe calculator ([nu uitați să etichetați axele](https://matplotlib.org/3.1.0/gallery/pyplots/fig_axes_labels_simple.html));\n",
        "    * afișați care este înălțimea și greutatea minimă, maximă și medie. \n",
        "3. [Generați aleatoriu](https://www.geeksforgeeks.org/random-choices-method-in-python/) 10000 de șiruri binare de lungime 100.\n",
        "4. Calculați suma de biți pentru fiecare șir și vizualizați distribuția sumelor cu o [histogramă](https://matplotlib.org/3.1.1/gallery/statistics/hist.html). \n",
        "5. Salvați într-un fișier din Google Drive șirurile a căror sumă depășește 70.\n",
        "\n",
        "\n",
        "\n",
        "\n",
        "\n"
      ]
    },
    {
      "cell_type": "code",
      "metadata": {
        "colab": {
          "base_uri": "https://localhost:8080/"
        },
        "id": "ww66tmoH8exF",
        "outputId": "364574b8-18a1-456b-cc9c-954b0ab57c58"
      },
      "source": [
        "days_of_the_week = ['Sunday','Monday','Tuesday','Wednesday','Thursday','Friday','Saturday']\r\n",
        "for day in days_of_the_week:\r\n",
        "    statement = \"Today is \" + day\r\n",
        "    print(statement)"
      ],
      "execution_count": null,
      "outputs": [
        {
          "output_type": "stream",
          "text": [
            "Today is Sunday\n",
            "Today is Monday\n",
            "Today is Tuesday\n",
            "Today is Wednesday\n",
            "Today is Thursday\n",
            "Today is Friday\n",
            "Today is Saturday\n"
          ],
          "name": "stdout"
        }
      ]
    },
    {
      "cell_type": "code",
      "metadata": {
        "colab": {
          "base_uri": "https://localhost:8080/"
        },
        "id": "ueYjiiSWBFDY",
        "outputId": "6e601d71-38f4-4011-bc7e-e86cd4a87acd"
      },
      "source": [
        "numbers = range(0,40)\r\n",
        "evens = numbers[2::2]\r\n",
        "evens"
      ],
      "execution_count": null,
      "outputs": [
        {
          "output_type": "execute_result",
          "data": {
            "text/plain": [
              "range(2, 40, 2)"
            ]
          },
          "metadata": {
            "tags": []
          },
          "execution_count": 41
        }
      ]
    },
    {
      "cell_type": "code",
      "metadata": {
        "colab": {
          "base_uri": "https://localhost:8080/"
        },
        "id": "3ATFkPq49yO_",
        "outputId": "8bda1ba1-18fb-4ec3-b506-226d8b0d616e"
      },
      "source": [
        "def fibonacci(sequence_length):\r\n",
        "    #\"Return the Fibonacci sequence of length *sequence_length*\"\r\n",
        "    sequence = [0,1]\r\n",
        "    if sequence_length < 1:\r\n",
        "        print(\"Fibonacci sequence only defined for length 1 or greater\")\r\n",
        "        return\r\n",
        "    if 0 < sequence_length < 3:\r\n",
        "        return sequence[:sequence_length]\r\n",
        "    for i in range(2,sequence_length): \r\n",
        "        sequence.append(sequence[i-1]+sequence[i-2])\r\n",
        "    return sequence\r\n",
        "\r\n",
        "print(fibonacci(7))"
      ],
      "execution_count": null,
      "outputs": [
        {
          "output_type": "stream",
          "text": [
            "[0, 1, 1, 2, 3, 5, 8]\n"
          ],
          "name": "stdout"
        }
      ]
    },
    {
      "cell_type": "code",
      "metadata": {
        "colab": {
          "base_uri": "https://localhost:8080/"
        },
        "id": "PPJ7ek4f_g_G",
        "outputId": "a80dfa59-95b2-4ec5-e924-a7433ee7e44d"
      },
      "source": [
        "ages = {\"Rick\": 46, \"Bob\": 86, \"Fred\": 21}\r\n",
        "print (\"Rick's age is \",ages[\"Rick\"])"
      ],
      "execution_count": null,
      "outputs": [
        {
          "output_type": "stream",
          "text": [
            "Rick's age is  46\n"
          ],
          "name": "stdout"
        }
      ]
    },
    {
      "cell_type": "code",
      "metadata": {
        "colab": {
          "base_uri": "https://localhost:8080/",
          "height": 422
        },
        "id": "GmG4f4V0_tly",
        "outputId": "9bbeb1bb-650c-4b15-91a1-bfd78fbfdbff"
      },
      "source": [
        "import pandas as pd\r\n",
        "%pylab inline\r\n",
        "fibs = fibonacci(10)\r\n",
        "figsize(8,6)\r\n",
        "plot(facts,label=\"factorial\")\r\n",
        "plot(fibs,label=\"Fibonacci\")\r\n",
        "xlabel(\"n\")\r\n",
        "legend()"
      ],
      "execution_count": null,
      "outputs": [
        {
          "output_type": "stream",
          "text": [
            "Populating the interactive namespace from numpy and matplotlib\n"
          ],
          "name": "stdout"
        },
        {
          "output_type": "execute_result",
          "data": {
            "text/plain": [
              "<matplotlib.legend.Legend at 0x7f0b09eaf3d0>"
            ]
          },
          "metadata": {
            "tags": []
          },
          "execution_count": 37
        },
        {
          "output_type": "display_data",
          "data": {
            "image/png": "[encoded data removed]",
            "text/plain": [
              "<Figure size 576x432 with 1 Axes>"
            ]
          },
          "metadata": {
            "tags": [],
            "needs_background": "light"
          }
        }
      ]
    },
    {
      "cell_type": "code",
      "metadata": {
        "colab": {
          "base_uri": "https://localhost:8080/"
        },
        "id": "VcVvkmNFAstn",
        "outputId": "281a6fe6-7c14-43de-fe66-c0092f9f2aa2"
      },
      "source": [
        "identity(4,'d')"
      ],
      "execution_count": null,
      "outputs": [
        {
          "output_type": "execute_result",
          "data": {
            "text/plain": [
              "array([[1., 0., 0., 0.],\n",
              "       [0., 1., 0., 0.],\n",
              "       [0., 0., 1., 0.],\n",
              "       [0., 0., 0., 1.]])"
            ]
          },
          "metadata": {
            "tags": []
          },
          "execution_count": 38
        }
      ]
    },
    {
      "cell_type": "code",
      "metadata": {
        "colab": {
          "base_uri": "https://localhost:8080/"
        },
        "id": "BZi-L1kTAv3u",
        "outputId": "eafdbcc6-78d7-407d-c68d-7c43e48838b4"
      },
      "source": [
        "x = linspace(0,2*pi)\r\n",
        "sin(x)"
      ],
      "execution_count": null,
      "outputs": [
        {
          "output_type": "execute_result",
          "data": {
            "text/plain": [
              "array([ 0.00000000e+00,  1.27877162e-01,  2.53654584e-01,  3.75267005e-01,\n",
              "        4.90717552e-01,  5.98110530e-01,  6.95682551e-01,  7.81831482e-01,\n",
              "        8.55142763e-01,  9.14412623e-01,  9.58667853e-01,  9.87181783e-01,\n",
              "        9.99486216e-01,  9.95379113e-01,  9.74927912e-01,  9.38468422e-01,\n",
              "        8.86599306e-01,  8.20172255e-01,  7.40277997e-01,  6.48228395e-01,\n",
              "        5.45534901e-01,  4.33883739e-01,  3.15108218e-01,  1.91158629e-01,\n",
              "        6.40702200e-02, -6.40702200e-02, -1.91158629e-01, -3.15108218e-01,\n",
              "       -4.33883739e-01, -5.45534901e-01, -6.48228395e-01, -7.40277997e-01,\n",
              "       -8.20172255e-01, -8.86599306e-01, -9.38468422e-01, -9.74927912e-01,\n",
              "       -9.95379113e-01, -9.99486216e-01, -9.87181783e-01, -9.58667853e-01,\n",
              "       -9.14412623e-01, -8.55142763e-01, -7.81831482e-01, -6.95682551e-01,\n",
              "       -5.98110530e-01, -4.90717552e-01, -3.75267005e-01, -2.53654584e-01,\n",
              "       -1.27877162e-01, -2.44929360e-16])"
            ]
          },
          "metadata": {
            "tags": []
          },
          "execution_count": 39
        }
      ]
    },
    {
      "cell_type": "code",
      "metadata": {
        "colab": {
          "base_uri": "https://localhost:8080/",
          "height": 391
        },
        "id": "mTkXuY1NA001",
        "outputId": "c3a59cca-7f8e-45de-badc-2b77f34128f0"
      },
      "source": [
        "from random import random\r\n",
        "rands = []\r\n",
        "for i in range(100):\r\n",
        "    rands.append(random())\r\n",
        "plot(rands)"
      ],
      "execution_count": null,
      "outputs": [
        {
          "output_type": "execute_result",
          "data": {
            "text/plain": [
              "[<matplotlib.lines.Line2D at 0x7f0b09942e10>]"
            ]
          },
          "metadata": {
            "tags": []
          },
          "execution_count": 40
        },
        {
          "output_type": "display_data",
          "data": {
            "image/png": "[encoded data removed]",
            "text/plain": [
              "<Figure size 576x432 with 1 Axes>"
            ]
          },
          "metadata": {
            "tags": [],
            "needs_background": "light"
          }
        }
      ]
    },
    {
      "cell_type": "code",
      "metadata": {
        "id": "RFJhSZadCN07",
        "colab": {
          "base_uri": "https://localhost:8080/"
        },
        "outputId": "d942c5d8-5aff-4550-e567-b2fafe59564f"
      },
      "source": [
        "!pip install -U -q PyDrive\r\n",
        "from pydrive.auth import GoogleAuth\r\n",
        "from pydrive.drive import GoogleDrive\r\n",
        "from google.colab import auth\r\n",
        "from oauth2client.client import GoogleCredentials\r\n",
        "import pandas as pd\r\n",
        "\r\n",
        "auth.authenticate_user()\r\n",
        "gauth = GoogleAuth()\r\n",
        "gauth.credentials = GoogleCredentials.get_application_default()\r\n",
        "drive = GoogleDrive(gauth)\r\n",
        "\r\n",
        "fileDownloaded = drive.CreateFile({'id':'1X9oI8lIen5emwX1EWm6DWwwuKoEeSYlP'})\r\n",
        "fileDownloaded.GetContentFile('hw_200.csv')\r\n",
        "\r\n",
        "import pandas as pd\r\n",
        "df = pd.read_csv('hw_200.csv' )\r\n",
        "print(df)\r\n",
        "\r\n",
        "df['Inaltime'] = df[' Height(Inches)\"'] * 2.54\r\n",
        "print(df['Inaltime'])\r\n",
        "print(df['Inaltime'].max())\r\n",
        "\r\n",
        "df['Greutate'] = df[' \"Weight(Pounds)\"'] * 0.453592\r\n",
        "print(df['Greutate'])"
      ],
      "execution_count": 12,
      "outputs": [
        {
          "output_type": "stream",
          "text": [
            "     Index   Height(Inches)\"   \"Weight(Pounds)\"\n",
            "0        1             65.78             112.99\n",
            "1        2             71.52             136.49\n",
            "2        3             69.40             153.03\n",
            "3        4             68.22             142.34\n",
            "4        5             67.79             144.30\n",
            "..     ...               ...                ...\n",
            "195    196             65.80             120.84\n",
            "196    197             66.11             115.78\n",
            "197    198             68.24             128.30\n",
            "198    199             68.02             127.47\n",
            "199    200             71.39             127.88\n",
            "\n",
            "[200 rows x 3 columns]\n",
            "0      167.0812\n",
            "1      181.6608\n",
            "2      176.2760\n",
            "3      173.2788\n",
            "4      172.1866\n",
            "         ...   \n",
            "195    167.1320\n",
            "196    167.9194\n",
            "197    173.3296\n",
            "198    172.7708\n",
            "199    181.3306\n",
            "Name: Inaltime, Length: 200, dtype: float64\n",
            "187.70600000000002\n",
            "0      51.251360\n",
            "1      61.910772\n",
            "2      69.413184\n",
            "3      64.564285\n",
            "4      65.453326\n",
            "         ...    \n",
            "195    54.812057\n",
            "196    52.516882\n",
            "197    58.195854\n",
            "198    57.819372\n",
            "199    58.005345\n",
            "Name: Greutate, Length: 200, dtype: float64\n"
          ],
          "name": "stdout"
        }
      ]
    },
    {
      "cell_type": "code",
      "metadata": {
        "colab": {
          "base_uri": "https://localhost:8080/",
          "height": 554
        },
        "id": "dL_CJxcGnBBM",
        "outputId": "972012ea-013b-417f-c6ba-bd6cca2cb311"
      },
      "source": [
        "import matplotlib.pyplot as plt\r\n",
        "fig = plt.figure(figsize=(12, 8))\r\n",
        "\r\n",
        "plt.scatter(df['Inaltime'], df['Greutate'])\r\n",
        "plt.xlabel('Inaltimea')\r\n",
        "plt.ylabel('Greutatea')\r\n",
        "\r\n",
        "fig.suptitle('Relatia dintre inaltime si greutate', fontsize=18)\r\n",
        "fig.savefig('scatter.png')"
      ],
      "execution_count": 14,
      "outputs": [
        {
          "output_type": "display_data",
          "data": {
            "image/png": "[encoded data removed]",
            "text/plain": [
              "<Figure size 864x576 with 1 Axes>"
            ]
          },
          "metadata": {
            "tags": [],
            "needs_background": "light"
          }
        }
      ]
    },
    {
      "cell_type": "code",
      "metadata": {
        "colab": {
          "base_uri": "https://localhost:8080/"
        },
        "id": "NQEUN47on0IM",
        "outputId": "a7d952d7-3ef5-4d0b-ca6d-9037d28d35ca"
      },
      "source": [
        "print('Inaltimea maxima:',df['Inaltime'].max())\r\n",
        "print('Inaltimea cea mai mica:',df['Inaltime'].min())\r\n",
        "print('Inaltimea medie:',df['Inaltime'].mean())"
      ],
      "execution_count": 20,
      "outputs": [
        {
          "output_type": "stream",
          "text": [
            "Inaltimea maxima: 187.70600000000002\n",
            "Inaltimea cea mai mica: 161.1122\n",
            "Inaltimea medie: 172.5924919999999\n"
          ],
          "name": "stdout"
        }
      ]
    },
    {
      "cell_type": "code",
      "metadata": {
        "colab": {
          "base_uri": "https://localhost:8080/",
          "height": 332
        },
        "id": "XVrKYxKLnZ7X",
        "outputId": "7c6e5681-8eaf-43b6-a587-dcc913b6faae"
      },
      "source": [
        "from google.colab import files\r\n",
        "files.download('scatter.png')\r\n",
        "\r\n",
        "plt.hist(df['Inaltime'])"
      ],
      "execution_count": 16,
      "outputs": [
        {
          "output_type": "display_data",
          "data": {
            "application/javascript": [
              "\n",
              "    async function download(id, filename, size) {\n",
              "      if (!google.colab.kernel.accessAllowed) {\n",
              "        return;\n",
              "      }\n",
              "      const div = document.createElement('div');\n",
              "      const label = document.createElement('label');\n",
              "      label.textContent = `Downloading \"${filename}\": `;\n",
              "      div.appendChild(label);\n",
              "      const progress = document.createElement('progress');\n",
              "      progress.max = size;\n",
              "      div.appendChild(progress);\n",
              "      document.body.appendChild(div);\n",
              "\n",
              "      const buffers = [];\n",
              "      let downloaded = 0;\n",
              "\n",
              "      const channel = await google.colab.kernel.comms.open(id);\n",
              "      // Send a message to notify the kernel that we're ready.\n",
              "      channel.send({})\n",
              "\n",
              "      for await (const message of channel.messages) {\n",
              "        // Send a message to notify the kernel that we're ready.\n",
              "        channel.send({})\n",
              "        if (message.buffers) {\n",
              "          for (const buffer of message.buffers) {\n",
              "            buffers.push(buffer);\n",
              "            downloaded += buffer.byteLength;\n",
              "            progress.value = downloaded;\n",
              "          }\n",
              "        }\n",
              "      }\n",
              "      const blob = new Blob(buffers, {type: 'application/binary'});\n",
              "      const a = document.createElement('a');\n",
              "      a.href = window.URL.createObjectURL(blob);\n",
              "      a.download = filename;\n",
              "      div.appendChild(a);\n",
              "      a.click();\n",
              "      div.remove();\n",
              "    }\n",
              "  "
            ],
            "text/plain": [
              "<IPython.core.display.Javascript object>"
            ]
          },
          "metadata": {
            "tags": []
          }
        },
        {
          "output_type": "display_data",
          "data": {
            "application/javascript": [
              "download(\"download_1cba26cf-aaf4-4ae3-ae7b-ca76cedf5542\", \"scatter.png\", 22130)"
            ],
            "text/plain": [
              "<IPython.core.display.Javascript object>"
            ]
          },
          "metadata": {
            "tags": []
          }
        },
        {
          "output_type": "execute_result",
          "data": {
            "text/plain": [
              "(array([ 8., 14., 30., 32., 47., 30., 23., 12.,  2.,  2.]),\n",
              " array([161.1122 , 163.77158, 166.43096, 169.09034, 171.74972, 174.4091 ,\n",
              "        177.06848, 179.72786, 182.38724, 185.04662, 187.706  ]),\n",
              " <a list of 10 Patch objects>)"
            ]
          },
          "metadata": {
            "tags": []
          },
          "execution_count": 16
        },
        {
          "output_type": "display_data",
          "data": {
            "image/png": "[encoded data removed]",
            "text/plain": [
              "<Figure size 432x288 with 1 Axes>"
            ]
          },
          "metadata": {
            "tags": [],
            "needs_background": "light"
          }
        }
      ]
    },
    {
      "cell_type": "code",
      "metadata": {
        "colab": {
          "base_uri": "https://localhost:8080/",
          "height": 349
        },
        "id": "YJHygfPcnlnr",
        "outputId": "4443743c-702c-4d6c-95f8-a1bd659b8a1a"
      },
      "source": [
        "plt.hist(df['Greutate'])"
      ],
      "execution_count": 17,
      "outputs": [
        {
          "output_type": "execute_result",
          "data": {
            "text/plain": [
              "(array([ 7., 13., 20., 24., 44., 35., 31., 19.,  3.,  4.]),\n",
              " array([44.4066568 , 47.17628955, 49.9459223 , 52.71555506, 55.48518781,\n",
              "        58.25482056, 61.02445331, 63.79408606, 66.56371882, 69.33335157,\n",
              "        72.10298432]),\n",
              " <a list of 10 Patch objects>)"
            ]
          },
          "metadata": {
            "tags": []
          },
          "execution_count": 17
        },
        {
          "output_type": "display_data",
          "data": {
            "image/png": "[encoded data removed]",
            "text/plain": [
              "<Figure size 432x288 with 1 Axes>"
            ]
          },
          "metadata": {
            "tags": [],
            "needs_background": "light"
          }
        }
      ]
    },
    {
      "cell_type": "code",
      "metadata": {
        "colab": {
          "base_uri": "https://localhost:8080/"
        },
        "id": "S1KyqCmcoW-D",
        "outputId": "b5e9f535-b0cd-4451-c53c-02c25214d018"
      },
      "source": [
        "from random import random\r\n",
        "import numpy as np\r\n",
        "rnd = np.random.randint(2, size=(10000, 100))\r\n",
        "print(rnd)"
      ],
      "execution_count": 21,
      "outputs": [
        {
          "output_type": "stream",
          "text": [
            "[[0 0 1 ... 0 0 0]\n",
            " [1 1 0 ... 1 0 1]\n",
            " [1 1 1 ... 0 1 1]\n",
            " ...\n",
            " [0 0 0 ... 1 0 1]\n",
            " [1 0 0 ... 1 1 0]\n",
            " [1 1 0 ... 0 0 0]]\n"
          ],
          "name": "stdout"
        }
      ]
    },
    {
      "cell_type": "code",
      "metadata": {
        "colab": {
          "base_uri": "https://localhost:8080/",
          "height": 369
        },
        "id": "1g2VepS-pGcn",
        "outputId": "06d63e17-9e5e-4544-862a-8a75f15a6361"
      },
      "source": [
        "x = [np.sum(i) for i in rnd]\r\n",
        "print (x)\r\n",
        "plt.hist(x)"
      ],
      "execution_count": 23,
      "outputs": [
        {
          "output_type": "stream",
          "text": [
            "[48, 57, 54, 55, 51, 46, 50, 53, 53, 42, 54, 52, 45, 54, 51, 58, 45, 51, 59, 47, 40, 59, 48, 51, 51, 46, 49, 44, 54, 50, 49, 55, 55, 40, 54, 47, 60, 44, 46, 48, 56, 51, 46, 45, 45, 47, 56, 50, 44, 51, 54, 45, 46, 49, 54, 54, 50, 52, 55, 50, 52, 50, 52, 42, 54, 37, 43, 45, 51, 55, 47, 53, 52, 55, 48, 48, 55, 53, 56, 46, 55, 57, 49, 45, 49, 54, 48, 39, 51, 52, 47, 56, 58, 53, 51, 48, 60, 54, 45, 50, 51, 52, 45, 53, 51, 47, 48, 54, 50, 51, 62, 49, 59, 48, 56, 59, 44, 47, 53, 47, 47, 58, 47, 51, 51, 52, 52, 49, 42, 47, 50, 45, 57, 61, 59, 55, 47, 56, 54, 58, 59, 49, 55, 49, 53, 52, 50, 55, 54, 49, 53, 50, 46, 53, 54, 46, 43, 51, 51, 46, 44, 52, 40, 51, 45, 54, 54, 48, 51, 49, 51, 40, 52, 52, 46, 53, 59, 47, 50, 52, 44, 50, 49, 55, 52, 51, 42, 54, 44, 50, 45, 51, 49, 55, 51, 48, 51, 57, 49, 55, 45, 49, 46, 46, 48, 47, 52, 55, 58, 41, 54, 52, 52, 46, 41, 49, 51, 44, 56, 47, 55, 51, 46, 44, 53, 52, 50, 59, 50, 48, 47, 43, 55, 47, 47, 43, 53, 63, 43, 50, 59, 52, 43, 53, 56, 45, 52, 52, 54, 43, 45, 49, 46, 47, 45, 52, 52, 60, 54, 53, 47, 49, 54, 43, 52, 57, 54, 51, 47, 60, 46, 55, 47, 53, 45, 50, 51, 46, 54, 48, 55, 56, 50, 47, 49, 47, 48, 53, 51, 49, 58, 47, 50, 52, 51, 47, 44, 44, 53, 42, 49, 56, 51, 48, 46, 54, 55, 48, 47, 52, 46, 51, 38, 51, 44, 49, 51, 43, 54, 57, 54, 46, 51, 47, 46, 48, 45, 50, 49, 51, 60, 47, 49, 54, 52, 43, 54, 50, 50, 56, 51, 47, 49, 46, 53, 43, 47, 39, 58, 44, 53, 51, 50, 56, 52, 52, 41, 43, 47, 52, 52, 55, 51, 46, 52, 61, 53, 55, 47, 53, 51, 58, 42, 39, 48, 46, 53, 55, 43, 55, 43, 56, 60, 50, 49, 47, 52, 43, 50, 47, 48, 51, 46, 42, 52, 46, 51, 49, 55, 59, 46, 43, 49, 49, 46, 50, 53, 42, 46, 53, 48, 48, 50, 47, 50, 53, 56, 45, 56, 52, 53, 49, 52, 50, 49, 50, 42, 49, 51, 42, 46, 47, 46, 46, 47, 48, 43, 51, 49, 45, 61, 46, 45, 48, 46, 54, 44, 45, 49, 51, 50, 38, 50, 59, 46, 60, 50, 47, 47, 48, 47, 48, 50, 53, 41, 57, 47, 43, 48, 45, 49, 40, 48, 43, 48, 49, 56, 63, 52, 57, 61, 51, 51, 54, 50, 47, 40, 51, 54, 50, 43, 43, 45, 56, 60, 50, 45, 39, 52, 50, 51, 48, 50, 46, 44, 56, 58, 44, 60, 51, 52, 48, 55, 52, 51, 50, 44, 44, 43, 45, 48, 55, 54, 61, 50, 47, 55, 50, 45, 45, 54, 54, 46, 55, 41, 47, 51, 47, 51, 48, 53, 50, 45, 52, 58, 41, 47, 51, 50, 57, 49, 51, 50, 62, 48, 50, 49, 54, 51, 46, 49, 47, 44, 50, 52, 49, 55, 48, 51, 55, 48, 52, 49, 49, 54, 45, 53, 50, 50, 45, 38, 53, 45, 54, 55, 49, 41, 53, 47, 57, 47, 60, 53, 41, 48, 53, 47, 51, 50, 46, 49, 52, 48, 54, 42, 46, 61, 50, 50, 50, 43, 56, 50, 51, 47, 51, 56, 55, 56, 48, 55, 44, 43, 58, 53, 53, 49, 50, 49, 45, 53, 52, 56, 48, 55, 60, 54, 45, 47, 48, 54, 45, 48, 43, 54, 47, 53, 47, 57, 48, 50, 49, 47, 55, 45, 40, 40, 56, 51, 61, 52, 51, 51, 46, 45, 40, 53, 48, 57, 44, 40, 53, 41, 50, 51, 47, 50, 44, 54, 53, 40, 49, 43, 55, 42, 47, 50, 47, 56, 52, 57, 56, 55, 49, 48, 45, 50, 46, 52, 57, 55, 54, 60, 53, 49, 46, 51, 50, 57, 49, 45, 49, 53, 52, 48, 49, 44, 44, 52, 44, 47, 53, 46, 51, 46, 44, 56, 47, 33, 54, 51, 43, 52, 51, 51, 40, 58, 52, 55, 53, 51, 51, 46, 45, 51, 50, 59, 50, 59, 51, 42, 55, 59, 53, 56, 52, 56, 44, 53, 41, 55, 56, 45, 43, 57, 52, 57, 48, 51, 43, 45, 46, 56, 53, 52, 43, 54, 51, 52, 44, 53, 53, 59, 45, 55, 42, 49, 51, 46, 45, 46, 51, 49, 50, 53, 48, 53, 57, 47, 46, 53, 51, 61, 51, 56, 45, 49, 44, 64, 49, 51, 57, 63, 54, 46, 54, 44, 48, 47, 52, 37, 36, 52, 48, 54, 53, 45, 49, 49, 49, 51, 53, 52, 58, 49, 49, 47, 48, 46, 45, 63, 48, 55, 44, 49, 45, 49, 47, 44, 38, 51, 48, 46, 51, 52, 58, 51, 45, 49, 51, 44, 49, 52, 57, 53, 44, 42, 47, 51, 52, 56, 46, 45, 45, 46, 49, 43, 56, 51, 53, 46, 39, 50, 46, 49, 41, 46, 53, 49, 44, 47, 59, 54, 43, 58, 56, 54, 50, 43, 54, 50, 43, 60, 41, 44, 49, 55, 42, 55, 48, 48, 50, 43, 50, 52, 50, 41, 50, 44, 49, 53, 54, 46, 48, 53, 50, 57, 48, 53, 52, 50, 52, 52, 48, 46, 60, 52, 47, 52, 53, 42, 54, 53, 48, 36, 44, 53, 54, 45, 56, 56, 59, 47, 58, 58, 48, 48, 48, 56, 40, 63, 51, 44, 49, 46, 53, 56, 44, 43, 48, 51, 47, 49, 53, 47, 52, 48, 48, 56, 50, 56, 50, 55, 46, 51, 48, 52, 58, 49, 56, 45, 56, 59, 52, 51, 46, 51, 48, 53, 55, 48, 56, 51, 64, 51, 47, 39, 51, 41, 37, 49, 56, 58, 52, 50, 52, 47, 60, 47, 53, 48, 45, 49, 44, 37, 38, 55, 56, 59, 52, 45, 62, 58, 53, 57, 48, 44, 49, 50, 50, 53, 55, 47, 60, 41, 51, 54, 49, 50, 53, 53, 55, 54, 51, 50, 50, 44, 49, 50, 47, 51, 52, 47, 49, 55, 47, 52, 54, 41, 48, 52, 51, 54, 54, 53, 52, 50, 44, 51, 49, 53, 48, 49, 56, 54, 44, 43, 47, 50, 39, 50, 50, 48, 46, 49, 43, 52, 51, 50, 42, 54, 55, 51, 58, 58, 55, 55, 49, 56, 52, 53, 51, 51, 46, 46, 63, 59, 51, 51, 46, 52, 50, 42, 51, 50, 47, 55, 54, 53, 55, 46, 53, 51, 50, 51, 52, 51, 61, 41, 43, 48, 44, 54, 52, 51, 55, 52, 55, 52, 56, 59, 52, 56, 44, 58, 49, 51, 40, 58, 51, 54, 55, 56, 54, 50, 56, 44, 40, 58, 43, 57, 49, 51, 61, 54, 47, 50, 53, 40, 61, 58, 51, 43, 48, 46, 55, 46, 49, 51, 60, 43, 50, 57, 56, 52, 56, 53, 57, 51, 58, 49, 43, 56, 44, 52, 60, 62, 60, 56, 53, 51, 53, 60, 44, 49, 49, 57, 51, 53, 55, 43, 39, 51, 58, 51, 54, 46, 48, 49, 43, 42, 48, 54, 52, 48, 52, 44, 51, 43, 53, 44, 44, 43, 48, 45, 49, 46, 51, 50, 44, 54, 51, 53, 48, 56, 51, 53, 54, 47, 44, 63, 51, 50, 52, 50, 54, 50, 45, 44, 60, 53, 47, 62, 49, 51, 44, 56, 52, 47, 47, 52, 54, 56, 58, 45, 47, 55, 49, 52, 65, 52, 41, 55, 60, 54, 44, 56, 51, 43, 57, 52, 50, 50, 52, 49, 41, 56, 53, 50, 54, 47, 49, 57, 46, 44, 54, 48, 49, 54, 50, 53, 48, 51, 50, 49, 53, 55, 54, 46, 48, 61, 45, 53, 52, 54, 54, 50, 51, 51, 49, 49, 56, 51, 45, 49, 47, 44, 48, 38, 45, 51, 54, 48, 51, 52, 47, 55, 47, 48, 48, 44, 47, 40, 49, 59, 47, 51, 48, 51, 55, 46, 54, 45, 52, 50, 54, 50, 50, 46, 48, 46, 57, 52, 56, 54, 42, 44, 55, 52, 48, 54, 41, 47, 48, 49, 49, 49, 52, 46, 51, 44, 51, 52, 47, 52, 46, 48, 45, 47, 54, 45, 56, 38, 54, 38, 49, 52, 46, 44, 47, 50, 49, 58, 50, 52, 51, 48, 49, 52, 62, 55, 50, 57, 45, 47, 51, 53, 45, 57, 61, 51, 53, 53, 43, 52, 41, 47, 59, 47, 51, 58, 51, 44, 51, 55, 57, 47, 51, 42, 59, 39, 57, 46, 53, 59, 48, 50, 53, 52, 41, 45, 51, 65, 50, 46, 48, 53, 50, 53, 59, 47, 43, 44, 45, 49, 57, 51, 55, 48, 50, 48, 55, 56, 47, 35, 45, 52, 52, 44, 57, 41, 62, 49, 46, 57, 61, 51, 51, 44, 39, 45, 57, 49, 44, 50, 52, 50, 56, 51, 44, 36, 40, 47, 47, 51, 42, 45, 49, 43, 56, 45, 63, 55, 38, 45, 37, 48, 46, 52, 50, 49, 41, 60, 41, 45, 56, 48, 46, 44, 46, 52, 49, 47, 55, 53, 51, 51, 46, 50, 49, 47, 45, 46, 49, 51, 50, 52, 46, 56, 47, 48, 55, 50, 58, 46, 51, 39, 52, 55, 48, 40, 50, 54, 65, 57, 57, 53, 56, 52, 56, 46, 59, 48, 45, 40, 54, 52, 49, 56, 51, 43, 52, 46, 48, 57, 45, 51, 45, 53, 52, 49, 50, 46, 52, 38, 51, 56, 43, 58, 49, 40, 46, 41, 46, 49, 55, 53, 44, 46, 43, 52, 53, 44, 49, 62, 48, 61, 43, 49, 56, 54, 55, 59, 44, 56, 53, 63, 49, 47, 39, 65, 50, 51, 44, 49, 53, 51, 44, 44, 53, 54, 56, 48, 51, 51, 50, 49, 47, 41, 54, 50, 47, 45, 55, 51, 47, 62, 50, 48, 54, 51, 45, 47, 55, 53, 49, 55, 49, 49, 51, 44, 43, 54, 56, 49, 48, 54, 51, 59, 54, 47, 48, 53, 51, 53, 41, 40, 51, 51, 49, 46, 50, 54, 52, 51, 49, 48, 46, 51, 47, 55, 53, 51, 47, 45, 48, 41, 47, 57, 54, 47, 55, 50, 46, 50, 53, 51, 49, 54, 46, 51, 51, 50, 52, 47, 51, 47, 42, 48, 49, 42, 51, 53, 48, 55, 48, 52, 47, 57, 60, 52, 44, 48, 52, 51, 44, 49, 49, 63, 39, 50, 43, 52, 49, 41, 47, 55, 40, 46, 50, 52, 43, 53, 57, 51, 53, 50, 50, 55, 49, 51, 54, 59, 48, 55, 52, 43, 45, 52, 55, 63, 54, 55, 54, 56, 38, 44, 58, 54, 43, 53, 53, 54, 46, 48, 50, 53, 53, 45, 48, 51, 51, 52, 60, 52, 45, 61, 52, 41, 51, 52, 49, 53, 49, 49, 43, 51, 48, 52, 44, 46, 47, 55, 47, 57, 52, 53, 44, 45, 59, 57, 56, 47, 48, 47, 54, 51, 47, 55, 46, 53, 66, 50, 54, 49, 49, 52, 44, 45, 48, 51, 54, 51, 46, 61, 53, 56, 48, 56, 55, 54, 54, 54, 57, 49, 52, 49, 44, 59, 60, 46, 46, 51, 51, 47, 38, 55, 41, 55, 42, 49, 51, 43, 51, 55, 54, 48, 48, 40, 45, 54, 52, 49, 55, 60, 42, 45, 50, 50, 41, 47, 48, 61, 54, 42, 50, 52, 41, 55, 51, 47, 51, 51, 56, 49, 49, 58, 45, 50, 53, 53, 59, 46, 38, 44, 50, 52, 45, 57, 50, 48, 46, 60, 50, 54, 52, 44, 53, 54, 55, 58, 42, 56, 54, 59, 55, 49, 44, 47, 49, 55, 48, 58, 55, 60, 52, 49, 51, 52, 40, 44, 43, 52, 50, 50, 57, 49, 44, 52, 60, 44, 46, 48, 48, 50, 48, 54, 51, 51, 52, 56, 45, 52, 56, 60, 47, 47, 46, 61, 57, 52, 51, 59, 45, 51, 49, 57, 61, 51, 51, 41, 58, 44, 56, 48, 49, 46, 52, 46, 49, 54, 49, 53, 54, 54, 52, 46, 53, 59, 55, 48, 51, 51, 51, 52, 46, 44, 46, 41, 43, 53, 43, 48, 45, 51, 38, 50, 53, 52, 48, 52, 58, 49, 47, 48, 46, 47, 58, 45, 52, 54, 52, 47, 40, 50, 55, 49, 57, 47, 46, 40, 50, 50, 57, 51, 48, 54, 50, 55, 57, 52, 57, 55, 57, 41, 53, 53, 48, 51, 45, 55, 53, 55, 48, 55, 50, 48, 48, 49, 48, 49, 55, 47, 49, 51, 46, 52, 48, 43, 48, 49, 44, 55, 57, 46, 52, 49, 39, 56, 55, 49, 50, 54, 57, 50, 58, 46, 53, 56, 52, 42, 50, 45, 50, 41, 46, 47, 62, 45, 44, 45, 53, 54, 51, 50, 49, 59, 46, 43, 44, 48, 47, 49, 51, 44, 45, 59, 47, 55, 46, 54, 58, 54, 49, 49, 55, 44, 54, 35, 48, 57, 43, 57, 51, 57, 50, 51, 52, 48, 58, 47, 49, 46, 46, 53, 52, 59, 50, 54, 62, 53, 49, 54, 53, 62, 53, 53, 57, 52, 56, 63, 49, 49, 45, 44, 59, 43, 41, 56, 46, 52, 42, 42, 58, 50, 54, 49, 50, 55, 51, 55, 56, 54, 47, 47, 35, 51, 49, 52, 51, 53, 45, 47, 52, 52, 45, 51, 53, 44, 58, 57, 57, 56, 48, 52, 53, 50, 52, 48, 49, 55, 54, 51, 51, 52, 35, 51, 46, 46, 46, 40, 58, 46, 41, 52, 47, 46, 58, 55, 47, 49, 54, 46, 58, 49, 51, 43, 47, 48, 53, 56, 55, 55, 55, 57, 50, 51, 45, 46, 52, 52, 40, 40, 54, 52, 46, 48, 53, 46, 54, 58, 41, 49, 52, 56, 59, 50, 45, 50, 43, 44, 35, 45, 49, 49, 53, 45, 47, 51, 56, 47, 54, 51, 52, 47, 47, 41, 48, 58, 47, 53, 55, 49, 50, 48, 41, 50, 41, 55, 45, 61, 51, 53, 50, 59, 46, 44, 57, 51, 49, 48, 44, 45, 51, 54, 49, 46, 55, 41, 49, 52, 53, 57, 52, 53, 51, 57, 58, 51, 50, 50, 52, 53, 55, 47, 57, 51, 49, 51, 52, 53, 51, 41, 61, 49, 52, 52, 49, 55, 44, 55, 55, 42, 56, 49, 59, 50, 43, 50, 44, 48, 46, 46, 51, 51, 43, 57, 49, 47, 54, 51, 43, 55, 51, 54, 55, 50, 47, 41, 48, 42, 38, 47, 45, 53, 54, 46, 43, 54, 48, 59, 55, 47, 52, 51, 51, 55, 51, 43, 50, 51, 60, 46, 48, 43, 48, 45, 45, 47, 46, 50, 52, 55, 57, 47, 51, 53, 55, 40, 44, 44, 51, 44, 41, 54, 53, 50, 60, 49, 49, 49, 54, 46, 58, 52, 45, 46, 44, 40, 56, 47, 50, 46, 44, 52, 57, 57, 48, 62, 47, 54, 45, 51, 43, 49, 53, 57, 54, 52, 50, 42, 44, 68, 52, 41, 52, 46, 48, 44, 51, 50, 53, 50, 50, 60, 60, 51, 53, 51, 52, 55, 49, 45, 49, 61, 53, 48, 53, 56, 44, 59, 45, 43, 48, 52, 50, 46, 49, 46, 52, 49, 47, 52, 59, 42, 53, 52, 54, 55, 43, 40, 40, 43, 55, 47, 59, 52, 53, 56, 57, 52, 51, 49, 49, 47, 52, 45, 58, 50, 47, 55, 63, 50, 53, 55, 58, 38, 49, 44, 51, 53, 53, 49, 52, 52, 52, 50, 51, 54, 56, 61, 48, 44, 60, 51, 54, 53, 60, 47, 53, 56, 46, 51, 54, 45, 42, 49, 58, 54, 45, 44, 55, 44, 49, 53, 52, 52, 48, 57, 39, 56, 45, 48, 44, 59, 52, 51, 48, 43, 48, 50, 48, 53, 46, 51, 55, 53, 44, 51, 56, 50, 48, 51, 55, 51, 48, 46, 53, 46, 47, 47, 55, 47, 41, 46, 51, 40, 50, 44, 65, 50, 48, 49, 44, 39, 50, 45, 45, 46, 59, 48, 50, 50, 47, 52, 49, 54, 55, 45, 50, 51, 50, 55, 47, 45, 44, 50, 40, 52, 57, 52, 43, 53, 48, 54, 51, 46, 51, 56, 41, 54, 52, 52, 60, 46, 55, 47, 50, 51, 44, 54, 57, 48, 54, 59, 57, 50, 50, 44, 53, 58, 54, 44, 51, 47, 58, 50, 40, 48, 38, 60, 48, 59, 53, 50, 49, 45, 44, 53, 51, 50, 51, 51, 50, 50, 52, 51, 58, 47, 47, 55, 54, 50, 56, 54, 48, 56, 43, 55, 52, 47, 47, 52, 50, 52, 48, 55, 59, 46, 47, 47, 52, 45, 51, 50, 45, 52, 56, 53, 42, 52, 41, 47, 50, 51, 44, 53, 49, 51, 54, 41, 49, 45, 46, 41, 54, 56, 52, 56, 62, 51, 51, 54, 48, 48, 42, 53, 42, 45, 50, 46, 54, 49, 51, 48, 49, 58, 56, 54, 42, 55, 53, 46, 44, 47, 36, 47, 48, 40, 58, 52, 46, 49, 50, 49, 44, 56, 56, 44, 47, 44, 54, 55, 55, 49, 47, 56, 48, 60, 51, 48, 48, 46, 54, 47, 49, 55, 41, 57, 52, 52, 55, 48, 50, 57, 60, 43, 51, 42, 53, 51, 50, 52, 49, 49, 44, 46, 52, 46, 43, 47, 54, 52, 46, 49, 53, 38, 47, 49, 62, 48, 50, 53, 46, 50, 50, 48, 51, 42, 51, 42, 44, 51, 48, 49, 47, 47, 57, 54, 40, 51, 52, 54, 46, 49, 49, 50, 54, 38, 44, 53, 40, 50, 50, 47, 47, 44, 51, 61, 56, 50, 44, 50, 52, 49, 43, 51, 44, 46, 55, 48, 43, 52, 47, 57, 45, 59, 46, 45, 63, 41, 44, 47, 58, 50, 48, 46, 45, 55, 48, 43, 53, 50, 48, 50, 47, 57, 57, 55, 50, 52, 59, 47, 48, 42, 54, 53, 44, 53, 50, 44, 52, 49, 46, 57, 48, 47, 51, 51, 44, 46, 43, 51, 53, 54, 39, 47, 49, 57, 49, 55, 41, 59, 47, 50, 58, 51, 48, 32, 46, 50, 43, 59, 58, 50, 47, 54, 50, 48, 56, 51, 46, 52, 47, 42, 46, 42, 51, 59, 44, 49, 46, 54, 43, 54, 53, 48, 50, 49, 52, 40, 53, 60, 36, 57, 45, 46, 53, 42, 54, 50, 51, 63, 41, 60, 56, 53, 47, 50, 46, 48, 44, 53, 46, 47, 40, 44, 46, 48, 53, 45, 55, 50, 52, 53, 52, 53, 52, 48, 47, 51, 47, 47, 59, 47, 51, 49, 47, 52, 52, 49, 54, 44, 47, 57, 52, 52, 44, 50, 51, 55, 43, 52, 53, 61, 51, 53, 51, 46, 45, 46, 56, 55, 49, 53, 61, 48, 44, 53, 52, 46, 47, 42, 52, 48, 51, 49, 52, 45, 47, 45, 59, 42, 55, 43, 49, 43, 45, 54, 54, 46, 60, 46, 52, 56, 53, 48, 50, 51, 51, 50, 50, 41, 46, 50, 52, 47, 44, 59, 49, 43, 53, 45, 52, 57, 51, 51, 51, 53, 51, 44, 61, 47, 54, 50, 54, 45, 53, 48, 47, 43, 53, 55, 52, 47, 51, 59, 45, 52, 53, 53, 39, 56, 49, 61, 56, 48, 51, 54, 48, 53, 58, 53, 47, 47, 48, 58, 52, 55, 54, 49, 45, 46, 51, 56, 57, 56, 47, 55, 43, 51, 52, 56, 52, 58, 49, 52, 44, 48, 49, 59, 52, 46, 48, 47, 52, 49, 48, 48, 53, 52, 59, 47, 55, 50, 42, 51, 53, 47, 47, 41, 56, 53, 50, 60, 53, 50, 54, 54, 53, 48, 51, 50, 50, 55, 47, 40, 48, 55, 48, 55, 49, 50, 46, 36, 50, 50, 41, 53, 48, 48, 49, 38, 45, 44, 57, 53, 43, 52, 51, 50, 50, 43, 53, 49, 44, 44, 39, 56, 51, 58, 52, 57, 41, 56, 50, 48, 51, 52, 49, 54, 48, 54, 47, 50, 49, 58, 45, 53, 55, 51, 43, 59, 63, 49, 40, 51, 49, 47, 55, 47, 47, 53, 51, 52, 54, 45, 38, 46, 62, 52, 51, 40, 45, 51, 49, 45, 48, 45, 46, 55, 53, 42, 47, 40, 52, 41, 57, 52, 53, 53, 46, 47, 58, 54, 55, 54, 54, 49, 46, 46, 50, 42, 47, 45, 51, 56, 48, 49, 47, 49, 45, 57, 44, 49, 45, 49, 48, 49, 44, 55, 45, 56, 63, 48, 56, 49, 50, 49, 56, 47, 52, 47, 50, 56, 50, 52, 52, 60, 50, 46, 57, 43, 52, 50, 52, 47, 46, 42, 52, 52, 51, 54, 45, 51, 49, 52, 48, 46, 52, 47, 60, 46, 52, 46, 51, 55, 49, 41, 44, 38, 45, 48, 56, 47, 47, 49, 42, 51, 50, 46, 51, 55, 45, 52, 56, 44, 50, 47, 44, 44, 54, 47, 44, 50, 53, 56, 51, 51, 51, 53, 55, 43, 47, 44, 51, 54, 58, 53, 47, 45, 47, 49, 53, 54, 43, 55, 51, 43, 51, 61, 50, 47, 54, 48, 53, 53, 42, 54, 44, 45, 43, 50, 53, 46, 45, 51, 42, 51, 51, 49, 56, 53, 45, 50, 50, 56, 50, 45, 49, 53, 52, 56, 44, 54, 50, 48, 53, 65, 55, 44, 57, 40, 54, 44, 52, 51, 52, 46, 47, 51, 48, 58, 49, 55, 51, 41, 59, 39, 51, 43, 57, 52, 50, 49, 48, 52, 48, 55, 44, 55, 46, 53, 55, 53, 57, 61, 48, 47, 55, 45, 56, 60, 52, 51, 56, 51, 40, 55, 47, 41, 44, 51, 58, 45, 52, 52, 52, 46, 47, 52, 52, 53, 50, 56, 54, 52, 50, 46, 42, 49, 52, 48, 46, 48, 54, 45, 56, 37, 47, 41, 45, 49, 44, 45, 49, 49, 47, 43, 49, 49, 53, 47, 55, 50, 41, 59, 53, 55, 50, 57, 54, 42, 47, 59, 49, 51, 48, 47, 53, 53, 52, 58, 56, 44, 50, 53, 45, 48, 54, 50, 53, 52, 56, 47, 49, 43, 54, 49, 55, 51, 40, 57, 52, 55, 46, 49, 44, 51, 55, 56, 49, 54, 59, 51, 46, 58, 46, 49, 51, 39, 47, 45, 45, 49, 43, 51, 50, 51, 46, 56, 45, 50, 48, 56, 54, 45, 48, 47, 48, 49, 51, 50, 41, 53, 51, 48, 46, 46, 56, 46, 55, 53, 56, 52, 58, 53, 52, 48, 55, 54, 51, 39, 58, 64, 47, 56, 49, 50, 48, 48, 61, 51, 48, 49, 47, 58, 49, 47, 45, 60, 54, 44, 44, 50, 43, 49, 53, 51, 40, 50, 48, 45, 54, 45, 52, 51, 58, 39, 43, 54, 59, 55, 49, 50, 43, 54, 52, 51, 50, 53, 48, 62, 55, 43, 44, 48, 52, 38, 46, 49, 46, 48, 57, 55, 56, 50, 39, 53, 52, 48, 53, 52, 50, 51, 46, 53, 45, 60, 46, 46, 49, 55, 40, 50, 53, 47, 49, 47, 59, 43, 49, 47, 54, 56, 49, 56, 48, 46, 52, 39, 53, 49, 51, 51, 49, 49, 51, 45, 43, 58, 52, 47, 51, 54, 45, 51, 50, 52, 45, 51, 43, 49, 50, 43, 45, 56, 42, 47, 55, 52, 49, 59, 46, 54, 50, 54, 52, 45, 56, 53, 38, 55, 46, 45, 49, 51, 53, 42, 43, 47, 50, 41, 46, 52, 49, 51, 52, 51, 46, 50, 54, 65, 50, 56, 55, 50, 52, 49, 43, 52, 41, 55, 48, 52, 50, 41, 49, 49, 45, 49, 52, 48, 50, 57, 43, 51, 44, 54, 53, 55, 63, 51, 45, 47, 58, 46, 46, 46, 51, 41, 40, 46, 48, 50, 43, 49, 50, 55, 48, 46, 47, 52, 52, 47, 45, 56, 50, 48, 58, 52, 53, 52, 47, 45, 53, 50, 49, 57, 53, 51, 49, 45, 53, 49, 49, 46, 52, 54, 52, 48, 42, 49, 45, 50, 49, 56, 49, 48, 51, 56, 53, 56, 47, 59, 52, 58, 53, 51, 53, 43, 54, 47, 49, 54, 52, 45, 51, 46, 54, 45, 41, 44, 54, 42, 55, 48, 60, 48, 52, 52, 49, 49, 48, 42, 48, 47, 38, 57, 53, 48, 41, 52, 53, 51, 44, 48, 58, 49, 50, 57, 50, 50, 57, 55, 49, 50, 54, 51, 68, 50, 50, 46, 47, 58, 53, 47, 41, 40, 49, 58, 43, 44, 48, 43, 53, 51, 49, 52, 45, 55, 48, 51, 47, 58, 55, 54, 43, 47, 55, 58, 47, 58, 40, 42, 44, 47, 52, 50, 51, 62, 49, 54, 50, 42, 52, 47, 55, 50, 49, 61, 56, 50, 56, 48, 50, 50, 48, 50, 53, 43, 47, 54, 51, 48, 44, 42, 48, 56, 45, 46, 52, 39, 57, 58, 53, 48, 52, 51, 42, 47, 47, 51, 43, 49, 51, 54, 48, 46, 50, 52, 48, 38, 48, 46, 50, 49, 48, 53, 46, 52, 41, 59, 49, 42, 57, 54, 43, 41, 49, 50, 54, 52, 46, 53, 51, 48, 51, 60, 55, 52, 63, 51, 51, 41, 52, 50, 52, 48, 58, 50, 64, 49, 62, 42, 47, 54, 53, 57, 60, 50, 49, 51, 46, 54, 51, 48, 48, 50, 55, 48, 57, 58, 45, 55, 53, 63, 43, 55, 50, 48, 39, 62, 49, 47, 51, 56, 59, 55, 52, 45, 45, 49, 53, 47, 50, 52, 48, 53, 56, 49, 46, 56, 55, 57, 53, 41, 44, 54, 49, 51, 53, 52, 52, 53, 52, 50, 44, 59, 47, 55, 47, 50, 44, 53, 50, 59, 53, 44, 55, 48, 42, 53, 56, 57, 48, 47, 52, 47, 53, 50, 47, 51, 59, 57, 47, 50, 49, 47, 52, 58, 60, 42, 55, 60, 45, 50, 45, 56, 52, 48, 52, 47, 47, 52, 45, 42, 51, 42, 55, 55, 53, 55, 52, 49, 51, 50, 49, 40, 53, 46, 44, 46, 51, 44, 46, 49, 54, 53, 54, 51, 52, 53, 49, 46, 50, 46, 46, 53, 43, 38, 48, 44, 46, 51, 53, 42, 53, 47, 49, 49, 50, 54, 48, 52, 38, 45, 43, 56, 43, 48, 48, 48, 52, 44, 58, 54, 45, 47, 47, 58, 49, 43, 50, 48, 48, 42, 45, 54, 44, 47, 38, 54, 50, 49, 52, 44, 41, 57, 50, 50, 57, 58, 60, 48, 57, 49, 49, 54, 63, 49, 49, 51, 51, 57, 50, 50, 53, 45, 46, 51, 53, 44, 47, 43, 40, 53, 51, 43, 46, 51, 49, 53, 45, 45, 57, 47, 56, 57, 58, 47, 45, 54, 62, 54, 46, 45, 60, 55, 60, 46, 48, 48, 47, 58, 50, 42, 53, 52, 48, 50, 54, 45, 53, 51, 52, 63, 57, 49, 48, 51, 49, 51, 42, 47, 51, 60, 47, 58, 58, 51, 55, 55, 48, 53, 51, 50, 47, 49, 55, 43, 49, 43, 50, 55, 57, 49, 54, 41, 49, 59, 46, 51, 49, 54, 50, 56, 48, 62, 52, 45, 48, 54, 58, 54, 45, 54, 52, 55, 57, 48, 46, 54, 48, 53, 43, 48, 53, 50, 44, 49, 55, 48, 49, 48, 48, 47, 49, 48, 59, 60, 52, 47, 51, 49, 42, 53, 47, 51, 49, 50, 51, 55, 51, 54, 45, 55, 45, 58, 55, 43, 60, 53, 47, 43, 51, 50, 45, 42, 46, 45, 48, 54, 44, 49, 47, 49, 52, 47, 50, 42, 56, 40, 47, 50, 53, 41, 43, 57, 53, 44, 52, 54, 47, 51, 53, 40, 52, 52, 51, 50, 56, 57, 43, 50, 48, 51, 42, 49, 45, 46, 50, 49, 45, 47, 60, 49, 47, 51, 43, 55, 50, 42, 57, 47, 60, 53, 42, 59, 50, 51, 50, 51, 51, 37, 56, 46, 45, 47, 61, 56, 53, 41, 52, 45, 48, 50, 51, 47, 49, 50, 46, 45, 52, 42, 39, 44, 51, 40, 47, 45, 53, 49, 44, 61, 56, 55, 52, 46, 51, 53, 52, 41, 55, 47, 43, 53, 69, 58, 46, 42, 51, 57, 43, 43, 51, 49, 46, 49, 55, 50, 48, 45, 52, 46, 41, 50, 49, 48, 54, 55, 51, 49, 48, 52, 47, 51, 41, 44, 52, 49, 52, 50, 46, 51, 55, 55, 56, 47, 46, 49, 43, 58, 56, 52, 45, 53, 47, 45, 50, 43, 51, 55, 51, 52, 50, 57, 55, 54, 49, 50, 46, 46, 47, 54, 50, 57, 45, 47, 59, 42, 48, 46, 46, 49, 51, 50, 45, 64, 44, 45, 53, 49, 51, 54, 43, 48, 51, 43, 52, 46, 57, 52, 39, 61, 43, 46, 52, 63, 46, 50, 46, 50, 47, 42, 51, 39, 52, 40, 49, 52, 52, 58, 51, 54, 57, 44, 46, 52, 51, 48, 51, 53, 48, 51, 47, 48, 49, 44, 47, 43, 56, 56, 45, 60, 57, 52, 51, 49, 50, 47, 47, 54, 48, 50, 54, 49, 43, 49, 49, 47, 52, 57, 52, 46, 45, 53, 50, 53, 51, 51, 52, 54, 52, 44, 52, 50, 50, 52, 46, 53, 43, 53, 49, 51, 47, 52, 47, 43, 49, 50, 59, 52, 58, 57, 54, 49, 40, 46, 55, 40, 53, 50, 53, 51, 49, 46, 55, 54, 40, 52, 60, 38, 49, 50, 53, 46, 35, 47, 52, 50, 51, 51, 50, 52, 46, 49, 48, 51, 46, 47, 47, 56, 51, 50, 48, 56, 44, 53, 50, 55, 45, 53, 50, 50, 51, 48, 50, 53, 51, 51, 55, 50, 49, 52, 45, 59, 51, 51, 46, 50, 54, 44, 55, 42, 47, 41, 52, 54, 51, 53, 51, 49, 51, 48, 53, 51, 52, 49, 46, 46, 49, 50, 47, 44, 45, 50, 45, 45, 46, 52, 50, 49, 52, 49, 50, 54, 42, 53, 52, 52, 52, 55, 55, 52, 53, 46, 49, 55, 40, 53, 49, 43, 55, 44, 49, 53, 53, 52, 46, 53, 50, 51, 46, 48, 52, 54, 49, 57, 49, 54, 52, 46, 50, 47, 51, 54, 54, 43, 53, 57, 48, 46, 49, 50, 46, 52, 55, 55, 52, 50, 43, 52, 47, 55, 53, 44, 49, 46, 49, 51, 56, 53, 42, 52, 54, 52, 45, 55, 58, 47, 42, 58, 42, 43, 49, 43, 47, 57, 51, 43, 52, 57, 51, 56, 51, 52, 52, 49, 52, 33, 53, 55, 44, 44, 49, 49, 52, 50, 48, 44, 60, 47, 56, 50, 46, 43, 61, 44, 47, 61, 48, 56, 51, 56, 59, 51, 61, 45, 47, 47, 57, 47, 50, 48, 48, 51, 48, 53, 50, 51, 47, 49, 46, 47, 46, 48, 43, 54, 55, 51, 38, 58, 60, 52, 53, 47, 52, 44, 49, 54, 42, 47, 50, 44, 54, 55, 47, 57, 47, 48, 50, 53, 51, 46, 49, 53, 55, 56, 46, 47, 55, 52, 51, 51, 50, 56, 51, 49, 48, 52, 44, 54, 45, 51, 54, 45, 46, 52, 51, 53, 43, 56, 54, 50, 51, 59, 47, 48, 55, 55, 48, 51, 54, 50, 47, 50, 52, 50, 42, 45, 44, 41, 42, 48, 61, 50, 45, 54, 52, 51, 48, 60, 50, 59, 46, 55, 49, 41, 52, 42, 50, 41, 50, 42, 55, 46, 50, 66, 54, 51, 46, 39, 46, 44, 51, 52, 52, 52, 48, 47, 45, 47, 53, 47, 61, 57, 51, 51, 45, 48, 57, 49, 49, 48, 42, 54, 43, 50, 54, 50, 53, 48, 48, 53, 59, 50, 51, 42, 47, 48, 57, 56, 53, 56, 51, 51, 45, 45, 48, 46, 50, 47, 47, 53, 51, 51, 52, 45, 47, 47, 50, 52, 45, 53, 52, 50, 41, 57, 54, 44, 49, 58, 48, 45, 51, 52, 44, 54, 49, 53, 44, 51, 51, 56, 48, 48, 47, 47, 38, 55, 48, 53, 42, 55, 51, 46, 53, 48, 47, 54, 60, 52, 47, 58, 43, 48, 51, 48, 50, 52, 49, 43, 44, 56, 44, 50, 44, 46, 50, 46, 45, 52, 46, 52, 44, 46, 49, 42, 52, 50, 42, 47, 46, 52, 49, 45, 55, 50, 48, 44, 51, 47, 49, 58, 54, 53, 59, 52, 38, 49, 51, 46, 51, 41, 43, 47, 50, 49, 44, 57, 53, 49, 51, 50, 46, 50, 44, 57, 54, 56, 56, 45, 52, 59, 52, 52, 43, 45, 51, 51, 50, 47, 66, 53, 58, 53, 45, 39, 48, 51, 48, 51, 44, 49, 52, 51, 53, 50, 48, 51, 51, 54, 48, 50, 54, 45, 48, 46, 48, 47, 50, 53, 56, 41, 46, 55, 54, 49, 55, 48, 59, 47, 49, 46, 54, 51, 50, 52, 51, 46, 51, 52, 57, 53, 51, 48, 47, 51, 47, 51, 46, 46, 50, 50, 56, 52, 47, 48, 48, 48, 43, 58, 48, 53, 50, 42, 48, 55, 42, 47, 50, 50, 52, 54, 48, 53, 53, 46, 44, 45, 58, 52, 44, 43, 47, 48, 57, 51, 45, 50, 45, 42, 45, 43, 53, 46, 41, 59, 55, 44, 54, 48, 53, 49, 52, 43, 51, 57, 45, 46, 58, 43, 44, 52, 50, 52, 60, 48, 50, 55, 53, 55, 57, 45, 53, 42, 48, 49, 56, 45, 64, 48, 58, 45, 50, 46, 50, 47, 59, 48, 48, 58, 56, 38, 48, 49, 60, 50, 48, 52, 50, 52, 55, 57, 42, 54, 52, 52, 47, 49, 54, 51, 50, 49, 58, 48, 47, 52, 44, 45, 52, 54, 53, 58, 49, 40, 47, 44, 52, 40, 50, 48, 55, 48, 56, 44, 45, 47, 60, 55, 44, 45, 46, 51, 55, 58, 52, 45, 51, 49, 58, 54, 43, 57, 52, 54, 49, 46, 47, 47, 49, 47, 62, 49, 45, 44, 44, 58, 50, 38, 51, 48, 48, 48, 48, 56, 54, 51, 59, 53, 48, 46, 54, 49, 50, 50, 56, 56, 49, 47, 47, 52, 45, 50, 53, 48, 48, 42, 44, 56, 54, 48, 52, 50, 50, 55, 54, 46, 52, 55, 40, 61, 50, 52, 55, 43, 49, 54, 49, 56, 38, 54, 48, 45, 51, 49, 43, 45, 54, 55, 48, 57, 56, 42, 55, 51, 42, 47, 50, 54, 57, 44, 44, 52, 48, 52, 57, 53, 50, 49, 47, 46, 50, 53, 49, 46, 47, 49, 44, 46, 46, 58, 53, 48, 56, 43, 49, 61, 42, 46, 50, 49, 45, 59, 51, 58, 58, 48, 55, 48, 49, 48, 52, 41, 59, 52, 41, 49, 49, 57, 49, 56, 47, 57, 55, 46, 54, 49, 48, 52, 46, 47, 55, 50, 42, 45, 46, 47, 50, 60, 49, 50, 52, 45, 46, 38, 48, 57, 47, 44, 47, 52, 52, 51, 44, 48, 50, 55, 60, 49, 41, 51, 54, 51, 49, 40, 53, 50, 62, 53, 52, 55, 50, 59, 51, 42, 41, 41, 58, 46, 49, 53, 47, 46, 49, 53, 47, 47, 60, 54, 55, 49, 53, 49, 57, 54, 49, 45, 54, 53, 43, 46, 45, 47, 47, 58, 53, 59, 50, 43, 52, 50, 56, 51, 49, 52, 51, 50, 55, 51, 49, 53, 53, 57, 55, 43, 51, 47, 52, 43, 49, 48, 48, 54, 52, 46, 47, 45, 46, 57, 51, 50, 46, 41, 49, 54, 45, 54, 53, 42, 51, 44, 57, 53, 46, 39, 43, 55, 43, 44, 47, 52, 56, 48, 54, 49, 45, 57, 48, 52, 46, 45, 53, 39, 48, 47, 44, 52, 53, 55, 52, 41, 46, 44, 42, 53, 48, 56, 53, 57, 60, 47, 49, 51, 50, 54, 38, 51, 50, 43, 45, 50, 55, 46, 50, 44, 49, 50, 55, 50, 57, 46, 50, 53, 45, 59, 48, 43, 47, 58, 53, 43, 49, 52, 54, 50, 49, 52, 51, 54, 52, 51, 54, 41, 50, 52, 51, 49, 49, 52, 53, 54, 52, 51, 49, 48, 53, 53, 56, 57, 65, 45, 55, 50, 58, 53, 53, 51, 42, 44, 45, 48, 57, 48, 48, 47, 55, 55, 45, 47, 44, 45, 49, 48, 49, 46, 57, 40, 47, 50, 49, 53, 44, 50, 48, 46, 52, 45, 51, 43, 44, 52, 53, 54, 50, 55, 57, 45, 47, 48, 60, 53, 50, 48, 45, 54, 52, 49, 54, 46, 46, 49, 40, 43, 45, 47, 47, 54, 53, 48, 52, 47, 48, 47, 51, 49, 52, 45, 56, 47, 53, 56, 50, 54, 53, 48, 52, 47, 53, 42, 52, 53, 52, 46, 48, 47, 49, 55, 44, 56, 58, 50, 42, 50, 57, 51, 48, 50, 45, 49, 52, 50, 47, 48, 54, 58, 46, 52, 47, 54, 49, 51, 49, 54, 60, 43, 47, 49, 42, 60, 52, 48, 51, 47, 65, 47, 43, 40, 49, 48, 59, 61, 46, 56, 50, 46, 52, 52, 58, 47, 44, 53, 52, 56, 57, 53, 55, 46, 39, 44, 60, 55, 45, 45, 55, 62, 54, 55, 51, 50, 51, 52, 49, 49, 55, 47, 48, 56, 44, 47, 54, 54, 52, 58, 42, 55, 48, 51, 53, 68, 52, 53, 51, 52, 50, 48, 49, 49, 43, 56, 41, 52, 51, 50, 46, 49, 50, 57, 59, 55, 49, 51, 50, 58, 42, 44, 46, 48, 44, 46, 49, 45, 56, 45, 42, 53, 49, 37, 44, 50, 49, 47, 48, 48, 51, 56, 50, 52, 45, 43, 52, 53, 54, 48, 47, 51, 48, 52, 53, 44, 48, 46, 47, 48, 47, 56, 56, 46, 54, 46, 41, 48, 53, 52, 51, 45, 48, 51, 54, 43, 47, 51, 61, 47, 52, 56, 48, 51, 47, 45, 46, 44, 46, 42, 59, 48, 55, 62, 51, 49, 44, 44, 61, 55, 46, 53, 53, 44, 58, 54, 46, 45, 46, 50, 54, 47, 52, 45, 45, 51, 58, 50, 56, 55, 49, 53, 54, 47, 50, 44, 52, 51, 45, 53, 43, 56, 53, 49, 51, 51, 54, 57, 54, 57, 48, 49, 50, 50, 51, 49, 59, 41, 55, 52, 56, 47, 35, 51, 52, 43, 51, 48, 52, 43, 49, 53, 51, 57, 51, 52, 55, 54, 52, 51, 55, 55, 57, 46, 41, 50, 53, 49, 50, 58, 37, 52, 55, 61, 52, 43, 56, 57, 48, 55, 55, 52, 43, 42, 49, 51, 47, 56, 53, 50, 45, 47, 52, 45, 51, 49, 45, 50, 52, 46, 42, 53, 48, 44, 49, 53, 53, 56, 57, 51, 54, 51, 48, 46, 50, 59, 47, 52, 51, 48, 53, 48, 56, 41, 56, 55, 48, 64, 60, 53, 54, 54, 54, 39, 54, 51, 47, 48, 49, 51, 47, 55, 46, 54, 43, 47, 50, 55, 43, 46, 48, 58, 50, 48, 49, 38, 52, 53, 55, 46, 53, 50, 50, 61, 56, 45, 54, 51, 51, 45, 61, 48, 51, 46, 40, 51, 54, 45, 48, 48, 58, 60, 58, 52, 44, 45, 54, 45, 46, 56, 47, 45, 52, 53, 41, 36, 46, 44, 49, 48, 44, 59, 43, 48, 47, 47, 49, 48, 48, 48, 53, 54, 54, 49, 55, 46, 56, 53, 45, 54, 43, 50, 52, 51, 51, 53, 50, 49, 53, 50, 52, 51, 43, 56, 55, 52, 58, 53, 55, 46, 51, 53, 52, 42, 52, 49, 55, 58, 39, 46, 47, 37, 50, 46, 48, 51, 56, 46, 50, 43, 58, 49, 50, 61, 42, 44, 47, 51, 46, 53, 62, 53, 52, 45, 52, 46, 51, 51, 54, 47, 54, 50, 52, 56, 45, 48, 45, 49, 47, 44, 43, 51, 46, 51, 49, 46, 42, 43, 44, 51, 47, 56, 45, 52, 54, 54, 48, 56, 62, 49, 53, 57, 51, 53, 50, 50, 57, 53, 43, 47, 52, 52, 58, 51, 45, 49, 53, 52, 44, 43, 56, 53, 46, 52, 51, 55, 47, 47, 45, 50, 50, 44, 55, 53, 49, 59, 54, 52, 59, 55, 54, 54, 47, 49, 55, 51, 49, 49, 54, 54, 41, 42, 34, 52, 63, 56, 41, 50, 33, 53, 51, 51, 55, 51, 50, 56, 51, 46, 48, 52, 46, 42, 43, 52, 46, 47, 56, 46, 45, 53, 48, 48, 56, 56, 50, 49, 51, 53, 51, 46, 53, 52, 46, 52, 52, 51, 47, 48, 57, 51, 50, 54, 46, 54, 49, 55, 52, 39, 53, 53, 57, 59, 58, 60, 45, 43, 46, 50, 54, 47, 52, 46, 52, 41, 49, 51, 49, 46, 45, 60, 49, 44, 46, 52, 50, 54, 52, 48, 47, 45, 46, 49, 40, 54, 51, 47, 41, 56, 49, 51, 39, 46, 46, 51, 54, 56, 44, 52, 51, 52, 56, 49, 53, 47, 43, 53, 48, 49, 56, 49, 44, 43, 51, 49, 49, 59, 55, 58, 51, 46, 55, 39, 51, 46, 48, 49, 47, 60, 51, 44, 45, 53, 45, 47, 42, 48, 48, 42, 58, 47, 56, 53, 46, 45, 40, 49, 52, 43, 49, 47, 48, 47, 44, 64, 49, 48, 60, 43, 54, 49, 52, 46, 55, 54, 59, 50, 51, 50, 46, 49, 38, 54, 58, 50, 51, 49, 49, 43, 46, 56, 49, 54, 50, 62, 60, 48, 61, 41, 54, 53, 48, 66, 51, 46, 54, 49, 38, 54, 51, 47, 55, 48, 56, 61, 48, 49, 56, 39, 51, 43, 55, 53, 43, 50, 51, 58, 55, 51, 45, 51, 53, 50, 49, 53, 61, 49, 50, 47, 51, 47, 52, 56, 41, 54, 51, 59, 38, 44, 46, 47, 46, 39, 53, 46, 54, 47, 51, 49, 59, 57, 52, 51, 58, 47, 52, 47, 50, 50, 52, 48, 55, 54, 46, 49, 49, 53, 56, 54, 50, 50, 51, 51, 57, 52, 55, 48, 51, 52, 53, 46, 53, 52, 55, 45, 49, 41, 50, 51, 58, 51, 54, 54, 53, 57, 52, 53, 46, 46, 51, 50, 53, 51, 48, 48, 52, 47, 50, 55, 50, 54, 42, 58, 46, 49, 46, 50, 58, 46, 44, 51, 47, 50, 53, 47, 41, 47, 58, 42, 43, 53, 48, 46, 57, 51, 56, 46, 49, 53, 50, 53, 49, 56, 46, 42, 51, 58, 50, 50, 54, 46, 49, 53, 48, 54, 53, 55, 48, 52, 47, 45, 46, 48, 48, 49, 51, 54, 49, 48, 50, 48, 51, 57, 39, 47, 54, 44, 46, 43, 49, 40, 49, 46, 52, 49, 54, 53, 48, 50, 52, 51, 39, 43, 44, 61, 43, 49, 47, 65, 53, 47, 50, 56, 54, 50, 50, 58, 46, 51, 51, 47, 59, 50, 51, 49, 63, 47, 48, 51, 53, 48, 47, 59, 45, 50, 55, 52, 50, 50, 50, 43, 57, 54, 48, 57, 41, 50, 56, 48, 51, 54, 51, 51, 46, 36, 51, 51, 41, 43, 45, 39, 51, 51, 52, 50, 48, 42, 53, 50, 50, 47, 50, 49, 48, 41, 55, 54, 51, 57, 44, 59, 52, 49, 51, 49, 51, 47, 46, 51, 51, 55, 51, 42, 46, 48, 48, 50, 46, 43, 50, 50, 53, 65, 48, 53, 50, 46, 46, 50, 47, 44, 57, 48, 54, 44, 54, 49, 49, 54, 48, 56, 36, 54, 44, 45, 55, 45, 50, 61, 57, 46, 43, 48, 49, 49, 50, 45, 58, 54, 52, 49, 58, 46, 52, 47, 39, 52, 42, 47, 43, 37, 42, 54, 42, 53, 52, 48, 43, 49, 52, 51, 46, 38, 55, 43, 53, 50, 57, 45, 50, 50, 48, 51, 51, 47, 54, 48, 50, 42, 50, 43, 45, 55, 48, 48, 41, 53, 48, 40, 53, 60, 40, 49, 53, 43, 38, 51, 45, 51, 39, 51, 50, 60, 46, 50, 55, 47, 45, 54, 52, 51, 48, 53, 48, 50, 54, 35, 47, 55, 50, 48, 53, 52, 40, 55, 46, 51, 51, 56, 45, 62, 56, 55, 51, 45, 48, 45, 47, 53, 51, 46, 43, 44, 54, 49, 43, 47, 48, 47, 51, 59, 39, 63, 49, 48, 54, 51, 52, 50, 53, 47, 48, 48, 45, 53, 49, 49, 60, 60, 42, 54, 53, 47, 51, 53, 58, 54, 58, 53, 54, 53, 46, 51, 42, 45, 58, 57, 41, 41, 49, 55, 52, 55, 54, 55, 44, 56, 51, 48, 41, 53, 46, 53, 54, 54, 56, 51, 57, 47, 54, 53, 58, 50, 44, 47, 59, 48, 48, 46, 50, 51, 48, 49, 53, 46, 50, 58, 43, 39, 48, 56, 57, 43, 57, 62, 63, 53, 59, 45, 50, 42, 46, 53, 63, 46, 54, 56, 49, 45, 42, 53, 44, 45, 53, 49, 49, 49, 54, 50, 54, 48, 48, 45, 54, 50, 51, 61, 49, 60, 40, 50, 55, 53, 54, 44, 53, 47, 46, 51, 52, 47, 56, 40, 56, 52, 50, 50, 55, 53, 41, 55, 48, 56, 55, 48, 53, 53, 48, 43, 42, 54, 52, 47, 50, 52, 47, 47, 47, 49, 53, 54, 54, 49, 45, 50, 46, 49, 47, 47, 51, 48, 50, 38, 50, 48, 49, 51, 54, 39, 47, 50, 51, 55, 47, 52, 55, 54, 47, 56, 51, 52, 51, 56, 52, 52, 45, 56, 63, 58, 58, 46, 48, 57, 43, 42, 48, 42, 49, 52, 54, 52, 52, 43, 48, 50, 47, 49, 46, 43, 53, 45, 45, 58, 51, 46, 53, 49, 46, 52, 48, 52, 48, 52, 56, 40, 56, 41, 47, 49, 51, 47, 44, 48, 42, 47, 47, 45, 52, 58, 48, 49, 56, 43, 44, 51, 43, 58, 48, 53, 52, 53, 46, 51, 49, 44, 47, 49, 56, 60, 56, 49, 50, 47, 48, 56, 52, 54, 46, 52, 48, 48, 54, 54, 49, 49, 48, 50, 57, 57, 51, 48, 50, 48, 53, 51, 45, 45, 54, 45, 58, 47, 51, 47, 54, 46, 37, 50, 45, 58, 45, 45, 50, 52, 44, 45, 54, 47, 50, 49, 54, 46, 41, 57, 42, 47, 48, 43, 45, 50, 55, 48, 53, 46, 52, 49, 48, 52, 51, 42, 45, 46, 50, 51, 55, 54, 52, 51, 51, 46, 48, 52, 43, 59, 47, 43, 56, 46, 52, 48, 50, 55, 51, 51, 53, 45, 45, 50, 52, 49, 50, 47, 63, 54, 52, 46, 51, 56, 58, 53, 44, 45, 51, 56, 42, 50, 50, 50, 38, 43, 58, 50, 58, 58, 51, 49, 52, 58, 44, 41, 48, 42, 44, 56, 52, 51, 53, 37, 52, 54, 50, 43, 49, 52, 55, 53, 55, 45, 62, 51, 51, 44, 43, 53, 55, 59, 44, 43, 45, 56, 52, 48, 48, 43, 50, 49, 47, 59, 47, 47, 50, 46, 54, 50, 43, 51, 51, 53, 45, 51, 54, 48, 44, 51, 48, 60, 42, 57, 44, 56, 51, 49, 43, 54, 47, 52, 46, 42, 54, 51, 56, 50, 52, 41, 50, 49, 41, 51, 49, 47, 44, 54, 50, 54, 49, 48, 55, 46, 50, 49, 57, 49, 56, 51, 47, 53, 47, 44, 55, 53, 46, 53, 52, 45, 50, 47, 46, 50, 52, 46, 55, 52, 48, 50, 50, 53, 53, 47, 50, 46, 52, 39, 38, 61, 55, 49, 50, 51, 49, 41, 53, 51, 54, 47, 45, 48, 54, 59, 48, 48, 53, 55, 57, 49, 55, 45, 40, 53, 47, 48, 51, 48, 62, 40, 49, 53, 56, 43, 52, 55, 46, 58, 51, 46, 47, 54, 43, 59, 53, 47, 55, 45, 52, 46, 47, 53, 46, 53, 50, 50, 49, 43, 47, 45, 59, 45, 53, 47, 50, 49, 43, 52, 44, 50, 42, 48, 45, 53, 48, 48, 47, 56, 48, 42, 51, 52, 54, 51, 50, 56, 49, 46, 41, 46, 45, 51, 60, 59, 50, 54, 48, 49, 48, 43, 52, 53, 45, 45, 50, 53, 51, 58, 52, 52, 62, 52, 55, 46, 46, 54, 48, 49, 55, 51, 49, 51, 46, 46, 48, 56, 53, 57, 55, 53, 56, 50, 63, 57, 45, 45, 55, 48, 52, 48, 58, 54, 47, 47, 57, 45, 50, 54, 45, 43, 50, 46, 54, 49, 58, 48, 58, 51, 50, 47, 52, 59, 50, 45, 51, 42, 43, 56, 44, 53, 58, 44, 48, 45, 53, 49, 51, 52, 57, 48, 52, 52, 42, 46, 43, 49, 58, 48, 49, 46, 51, 48, 38, 52, 45, 57, 48, 49, 47, 41, 53, 54, 49, 46, 45, 51, 50, 50, 56, 49, 47, 52, 54, 48, 49, 56, 55, 48, 50, 41, 57, 42, 53, 48, 50, 48, 46, 54, 57, 45, 47, 47, 59, 57, 42, 54, 44, 40, 49, 53, 55, 59, 50, 45, 50, 57, 47, 46, 52, 51, 46, 56, 50, 51, 57, 55, 47, 54, 52, 50, 56, 49, 51, 50, 46, 49, 50, 49, 47, 52, 47, 54, 53, 49, 54, 51, 52, 46, 42, 51, 47, 42, 52, 52, 44, 52, 55, 47, 52, 52, 55, 53, 49, 53, 46, 45, 49, 41, 47, 48, 55, 47, 45, 53, 50, 47, 46, 51, 47, 49, 47, 52, 51, 65, 54, 47, 43, 43, 51, 50, 59, 50, 50, 56, 56, 51, 54, 48, 49, 50, 47, 50, 43, 52, 50, 47, 53, 54, 61, 50, 47, 52, 49, 48, 45, 46, 49, 49, 48, 46, 53, 53, 44, 49, 39, 49, 53, 45, 46, 53, 50, 54, 55, 50, 58, 52, 49, 49, 53, 59, 54, 48, 47, 49, 45, 49, 48, 39, 57, 51, 51, 49, 51, 40, 52, 47, 52, 48, 56, 52, 54, 49, 44, 58, 61, 48, 40, 44, 57, 55, 52, 47, 42, 60, 47, 54, 47, 50, 45, 53, 49, 50, 47, 45, 61, 52, 43, 51, 47, 47, 48, 49, 47, 51, 51, 55, 45, 47, 40, 47, 45, 51, 55, 50, 55, 54, 52, 48, 43, 56, 46, 48, 44, 44, 50, 49, 43, 46, 56, 55, 56, 55, 56, 54, 51, 47, 48, 50, 43, 43, 51, 47, 50, 42, 57, 51, 49, 46, 57, 36, 45, 46, 50, 40, 50, 45, 55, 52, 51, 49, 50, 44, 47, 52, 49, 51, 54, 53, 52, 52, 51, 48, 49, 46, 45, 49, 49, 54, 41, 48, 54, 51, 52, 56, 46, 57, 39, 47, 48, 42, 52, 54, 49, 54, 40, 48, 48, 59, 44, 47, 47, 49, 53, 54, 45, 45, 61, 52, 48, 46, 56, 54, 57, 55, 48, 52, 57, 56, 54, 54, 55, 57, 48, 55, 53, 35, 47, 59, 58, 50, 58, 50, 53, 51, 48, 47, 44, 48, 48, 39, 55, 48, 54, 49, 47, 44, 56, 52, 53, 42, 61, 58, 53, 53, 44, 52, 45, 53, 47, 55, 38, 43, 50, 58, 49, 63, 46, 44, 47, 56, 53, 48, 56, 55, 52, 49, 50, 51, 57, 43, 60, 49, 48, 42, 42, 39, 46, 51, 43, 53, 47, 51, 53, 44, 46, 60, 54, 50, 60, 55, 50, 49, 47, 46, 53, 50, 47, 60, 56, 47, 54, 46, 56, 48, 52, 55, 45, 51, 47, 57, 57, 51, 65, 58, 60, 49, 51, 55, 52, 54, 48, 44, 60, 55, 50, 56, 57, 51, 51, 53, 48, 47, 49, 46, 42, 49, 43, 57, 47, 56, 47, 52, 50, 47, 50, 55, 53, 57, 54, 40, 52, 41, 53, 59, 50, 50, 47, 43, 45, 49, 58, 46, 55, 51, 54, 45, 56, 53, 49, 49, 47, 58, 54, 41, 54, 41, 53, 54, 45, 54, 58, 52, 57, 50, 59, 38, 57, 42, 45, 49, 51, 48, 42, 54, 54, 50, 53, 45, 45, 56, 50, 53, 50, 51, 50, 51, 49, 40, 52, 50, 56, 40, 46, 52, 46, 50, 56, 53, 46, 49, 52, 53, 44, 56, 43, 47, 44, 54, 45, 44, 57, 47, 46, 61, 59, 52, 51, 52, 32, 45, 46, 57, 52, 45, 43, 50, 50, 49, 42, 49, 51, 49, 45, 51, 44, 47, 48, 48, 50, 44, 54, 60, 43, 44, 48, 57, 57, 53, 51, 57, 54, 48, 41, 51, 50, 56, 42, 45, 34, 50, 50, 36, 55, 52, 45, 42, 39, 56, 51, 47, 41, 43, 47, 52, 51, 55, 53, 59, 52, 40, 47, 43, 57, 56, 57, 48, 55, 51, 47, 57, 60, 53, 44, 54, 44, 38, 49, 39, 46, 42, 51, 50, 45, 50, 51, 48, 55, 44, 50, 59, 49, 56, 39, 48, 50, 46, 49, 50, 49, 62, 48, 41, 58, 62, 44, 48, 47, 49, 38, 49, 46, 53, 44, 48, 46, 52, 52, 46, 50, 44, 47, 54, 55, 57, 56, 47, 53, 43, 48, 55, 55, 47, 46, 46, 52, 54, 45, 59, 53, 49, 55, 50, 50, 58, 56, 49, 45, 57, 46, 40, 44, 55, 53, 52, 50, 50, 55, 49, 47, 52, 46, 50, 49, 52, 46, 52, 54, 47, 46, 45, 46, 49, 41, 45, 48, 50, 48, 52, 55, 43, 46, 53, 52, 47, 59, 56, 54, 45, 53, 54, 45, 52, 48, 39, 51, 52, 47, 49, 43, 53, 57, 49, 54, 47, 45, 58, 40, 44, 51, 58, 46, 52, 48, 51, 56, 49, 50, 65, 44, 52, 46, 55, 45, 56, 46, 48, 47, 46, 49, 45, 41, 56, 53, 54, 56, 53, 49, 52, 45, 52, 58, 57, 51, 51, 44, 58, 51, 49, 44, 51, 49, 52, 55, 46, 49, 51, 49, 56, 45, 53, 57, 52, 56, 60, 43, 45, 53, 46, 51, 54, 47, 54, 61, 48, 51, 43, 47, 49, 52, 54, 50, 58, 58, 50, 48, 49, 51, 48, 48, 53, 47, 50, 54, 49, 54, 49, 53, 47, 47, 52, 53, 52, 48, 52, 46, 48, 43, 40, 51, 48, 50, 52, 58, 57, 55, 49, 47, 46, 50, 44, 49, 44, 44, 45, 43, 53, 50, 43, 58, 51, 50, 50, 46, 53, 60, 43, 47, 52, 52, 54, 58, 50, 53, 48, 54, 56, 43, 55, 53, 47, 61, 45, 43, 55, 51, 48, 52, 53, 51, 43, 62, 43, 47, 48, 49, 47, 42, 52, 54, 46, 53, 48, 46, 57, 53, 60, 40, 51, 51, 53, 51, 49, 48, 43, 52, 51, 49, 51, 53, 45, 57, 51, 51, 59, 46, 45, 50, 50, 51, 43, 50, 52, 46, 40, 57, 46, 51, 55, 49, 59, 47, 42, 54, 53, 41, 45, 47, 52, 50, 53, 54, 55, 49, 56, 49, 45, 56, 53, 57, 51, 45, 47, 54, 42, 43, 48, 55, 48, 51, 50, 51, 59, 47, 43, 55, 51, 51, 56, 53, 56, 48, 48, 51, 55, 49, 56, 52, 44, 51, 47, 40, 38, 57, 36, 41, 47, 49, 39, 52, 44, 54, 47, 43, 49, 51, 43, 54, 46, 57, 53, 49, 45, 49, 59, 50, 48, 46, 43, 55, 41, 47, 44, 50, 58, 34, 56, 54, 49, 52, 48, 48, 45, 44, 54, 50, 43, 43, 41, 60, 46, 49, 54, 49, 50, 47, 53, 48, 47, 51, 50, 50, 50, 53, 50, 51, 51, 51, 50, 52, 48, 58, 50, 53, 53, 52, 52, 50, 51, 44, 50, 54, 45, 54, 46, 54, 56, 44, 50, 45, 44, 51, 52, 52, 52, 46, 50, 54, 56, 48, 53, 53, 49, 54, 55, 46, 50, 52, 55, 52, 53, 41, 48, 47, 48, 48, 50, 49, 48, 47, 54, 45, 48, 61, 57, 55, 44, 46, 44, 46, 50, 45, 48, 54, 53, 49, 53, 48, 51, 52, 43, 48, 51, 52, 53, 65, 44, 47, 53, 52, 50, 47, 50, 52, 51, 47, 49, 50, 48, 54, 49, 57, 45, 44, 50, 50, 57, 46, 51, 45, 48, 48, 48, 46, 36, 51, 55, 50, 41, 54, 62, 56, 50, 48, 47, 54, 45, 42, 42, 46, 55, 52, 46, 44, 46, 48, 43, 52, 43, 44, 46, 54, 51, 43, 48, 51, 42, 51, 48, 48, 52, 55, 42, 45, 41, 53, 60, 59, 48, 53, 54, 48, 44, 53, 51, 54, 43, 54, 50, 55, 54, 49, 53, 49, 48, 56, 52, 48, 53, 54, 46, 61, 57, 64, 56, 47, 53, 48, 50, 44, 53, 43, 44, 46, 57, 55, 50, 57, 50, 47, 55, 40, 54, 52, 55, 50, 57, 51, 51, 33, 53, 52, 49, 46, 51, 49, 54, 55, 55, 49, 56, 51, 42, 45, 45, 51, 46, 41, 47, 45, 63, 42, 51, 55, 52, 49, 56, 49, 52, 49, 52, 48, 46, 41, 51, 51, 49, 50, 52, 46, 51, 48, 52, 45, 57, 46, 46, 48, 56, 56, 45, 49, 48, 42, 52, 39, 47, 47, 52, 47, 51, 53, 50, 51, 55, 46, 46, 48, 49, 50, 51, 56, 39, 48, 56, 48, 54, 50, 50, 50, 53, 45, 48, 53, 52, 50, 48, 53, 58, 46, 51, 47, 50, 63, 52, 42, 55, 52, 66, 52, 51, 51, 40, 59, 47, 49, 48, 48, 53, 52, 44, 54, 56, 50, 61, 51, 50, 58, 55, 51, 53, 53, 43, 54, 50, 50, 59, 43, 55, 57, 47, 48, 51, 54, 45, 46, 52, 57, 56, 51, 45, 52, 53, 54, 47, 59, 52, 48, 48, 44, 51, 51, 62, 49, 37, 54, 48, 54, 59, 49, 44, 51, 42, 63, 51, 49, 47, 41, 45, 53, 43, 49, 53, 50, 46, 55, 50, 62, 45, 52, 49, 50, 51, 52, 47, 42, 60, 52, 52, 53, 51, 53, 52, 43, 48, 48, 51, 53, 45, 43, 40, 57, 51, 52, 58, 49, 50, 59, 52, 43, 42, 61, 60, 55, 50, 54, 53, 50, 39, 50, 50, 44, 52, 52, 47, 46, 50, 52, 50, 39, 54, 47, 43, 42, 50, 53, 48, 48, 50, 53, 55, 44, 56, 55, 66, 52, 43, 50, 50, 45, 51, 54, 51, 56, 51, 56, 47, 53, 51, 46, 48, 53, 57, 42, 56, 59, 61, 49, 54, 51, 41, 52, 45, 47, 52, 45, 52, 47, 46, 46, 55, 50, 46, 54, 57, 54, 53, 46, 53, 47, 43, 58, 45, 56, 51, 49, 50, 53, 49, 45, 52, 50, 42, 47, 48, 54, 57, 51, 47, 57, 46, 56, 43, 51, 45, 50, 55, 52, 53, 47, 61, 51, 47, 46, 41, 52, 52, 60, 48, 41, 57, 46, 44, 50, 51, 48, 43, 51, 44, 49, 44, 52, 64, 52, 57, 48, 54, 56, 52, 56, 51, 46, 50, 52, 43, 57, 54, 49, 53, 46, 46, 52, 50, 53, 54, 52, 53, 57, 51, 55, 56, 55, 48, 51, 47, 48, 55, 58, 55, 50, 46, 47, 43, 47, 54, 45, 50, 47, 48, 56, 54, 47, 57, 47, 50, 50, 37, 54, 43, 45, 42, 53, 48, 44, 44, 48, 40, 54, 44, 52, 60, 50, 48, 46, 51, 55, 45, 50, 49, 49, 47, 49, 53, 51, 49, 49, 46, 57, 40, 55, 50, 50, 61, 49, 53, 46, 50, 50, 55, 56, 54, 57, 47, 45, 45, 50, 57, 57, 57, 42, 55, 45, 56, 61, 50, 49, 51, 47, 41, 49, 51, 48, 50, 47, 54, 44, 51, 55, 53, 48, 55, 43, 46, 57, 55, 51, 48, 61, 50, 51, 56, 49, 43, 51, 53, 48, 54, 48, 52, 56, 57, 54, 54, 49, 55, 49, 54, 51, 54, 46, 60, 45, 49, 48, 52, 51, 55, 52, 50, 54, 45, 53, 48, 52, 55, 48, 53, 48, 47, 46, 53, 44, 42, 41, 60, 47, 44, 41, 62, 47, 52, 52, 55, 57, 47, 47, 53, 48, 50, 49, 48, 47, 54, 48, 50, 54, 48, 52, 51, 50, 50, 46, 50, 52, 46, 60, 44, 44, 48, 51, 47, 54, 53, 51, 45, 54, 48, 50, 47, 56, 55, 50, 65, 58, 52, 44, 42, 39, 47, 48, 53, 54, 47, 52, 40, 58, 49, 49, 53, 51, 47, 46, 43, 45, 52, 55, 55, 49, 50, 38, 61, 51, 51, 41, 42, 46, 49, 51, 53, 48, 50, 49, 57, 55, 56, 58, 51, 44, 52, 47, 50, 50, 53, 43, 44, 53, 49, 50, 55, 54, 47, 50, 44, 42, 46, 59, 43, 44, 48, 45, 53, 53, 45, 45, 49, 38, 48, 45, 47, 42, 51, 54, 47, 48, 41, 51, 51, 57, 60, 49, 51, 55, 60, 45, 52, 57, 49, 48, 48, 56, 45, 51, 39, 51, 48, 45, 55, 46, 51, 51, 42, 53, 55, 43, 43, 45, 50, 43, 42, 53, 49, 42, 55, 55, 54, 49, 58, 50, 53, 63, 61, 53, 51, 62, 51, 52, 53, 51, 45, 47, 56, 55, 53, 45, 56, 46, 50, 51, 44, 50, 51, 56, 61, 56]\n"
          ],
          "name": "stdout"
        },
        {
          "output_type": "execute_result",
          "data": {
            "text/plain": [
              "(array([  18.,  150.,  799., 1437., 2945., 2855., 1123.,  559.,  104.,\n",
              "          10.]),\n",
              " array([32. , 35.7, 39.4, 43.1, 46.8, 50.5, 54.2, 57.9, 61.6, 65.3, 69. ]),\n",
              " <a list of 10 Patch objects>)"
            ]
          },
          "metadata": {
            "tags": []
          },
          "execution_count": 23
        },
        {
          "output_type": "display_data",
          "data": {
            "image/png": "[encoded data removed]",
            "text/plain": [
              "<Figure size 432x288 with 1 Axes>"
            ]
          },
          "metadata": {
            "tags": [],
            "needs_background": "light"
          }
        }
      ]
    },
    {
      "cell_type": "code",
      "metadata": {
        "colab": {
          "base_uri": "https://localhost:8080/"
        },
        "id": "VWaqXPAsptme",
        "outputId": "680b5f4c-502b-458c-aebd-34d9e22e56a9"
      },
      "source": [
        "save = np.asarray(list(filter(lambda k: (np.sum(k) > 65), x)))\r\n",
        "print(len(save))"
      ],
      "execution_count": 30,
      "outputs": [
        {
          "output_type": "stream",
          "text": [
            "10\n"
          ],
          "name": "stdout"
        }
      ]
    }
  ]
}